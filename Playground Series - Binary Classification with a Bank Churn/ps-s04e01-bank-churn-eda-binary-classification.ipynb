{
 "cells": [
  {
   "cell_type": "code",
   "execution_count": 1,
   "id": "fa74e3b6",
   "metadata": {
    "_cell_guid": "b1076dfc-b9ad-4769-8c92-a6c4dae69d19",
    "_uuid": "8f2839f25d086af736a60e9eeb907d3b93b6e0e5",
    "execution": {
     "iopub.execute_input": "2024-01-16T06:21:00.512742Z",
     "iopub.status.busy": "2024-01-16T06:21:00.512198Z",
     "iopub.status.idle": "2024-01-16T06:21:03.533705Z",
     "shell.execute_reply": "2024-01-16T06:21:03.532155Z"
    },
    "papermill": {
     "duration": 3.03935,
     "end_time": "2024-01-16T06:21:03.536616",
     "exception": false,
     "start_time": "2024-01-16T06:21:00.497266",
     "status": "completed"
    },
    "tags": []
   },
   "outputs": [
    {
     "name": "stdout",
     "output_type": "stream",
     "text": [
      "/kaggle/input/playground-series-s4e1/sample_submission.csv\n",
      "/kaggle/input/playground-series-s4e1/train.csv\n",
      "/kaggle/input/playground-series-s4e1/test.csv\n"
     ]
    }
   ],
   "source": [
    "import numpy as np\n",
    "import pandas as pd \n",
    "import matplotlib.pyplot as plt\n",
    "import seaborn as sns\n",
    "\n",
    "from sklearn.model_selection import train_test_split, GridSearchCV\n",
    "from sklearn.preprocessing import StandardScaler\n",
    "from sklearn.metrics import confusion_matrix, accuracy_score\n",
    "\n",
    "import os\n",
    "for dirname, _, filenames in os.walk('/kaggle/input'):\n",
    "    for filename in filenames:\n",
    "        print(os.path.join(dirname, filename))"
   ]
  },
  {
   "cell_type": "code",
   "execution_count": 2,
   "id": "46afb6c1",
   "metadata": {
    "execution": {
     "iopub.execute_input": "2024-01-16T06:21:03.567150Z",
     "iopub.status.busy": "2024-01-16T06:21:03.564968Z",
     "iopub.status.idle": "2024-01-16T06:21:04.272898Z",
     "shell.execute_reply": "2024-01-16T06:21:04.271476Z"
    },
    "papermill": {
     "duration": 0.727076,
     "end_time": "2024-01-16T06:21:04.277306",
     "exception": false,
     "start_time": "2024-01-16T06:21:03.550230",
     "status": "completed"
    },
    "tags": []
   },
   "outputs": [
    {
     "data": {
      "text/html": [
       "<div>\n",
       "<style scoped>\n",
       "    .dataframe tbody tr th:only-of-type {\n",
       "        vertical-align: middle;\n",
       "    }\n",
       "\n",
       "    .dataframe tbody tr th {\n",
       "        vertical-align: top;\n",
       "    }\n",
       "\n",
       "    .dataframe thead th {\n",
       "        text-align: right;\n",
       "    }\n",
       "</style>\n",
       "<table border=\"1\" class=\"dataframe\">\n",
       "  <thead>\n",
       "    <tr style=\"text-align: right;\">\n",
       "      <th></th>\n",
       "      <th>id</th>\n",
       "      <th>CustomerId</th>\n",
       "      <th>Surname</th>\n",
       "      <th>CreditScore</th>\n",
       "      <th>Geography</th>\n",
       "      <th>Gender</th>\n",
       "      <th>Age</th>\n",
       "      <th>Tenure</th>\n",
       "      <th>Balance</th>\n",
       "      <th>NumOfProducts</th>\n",
       "      <th>HasCrCard</th>\n",
       "      <th>IsActiveMember</th>\n",
       "      <th>EstimatedSalary</th>\n",
       "      <th>Exited</th>\n",
       "    </tr>\n",
       "  </thead>\n",
       "  <tbody>\n",
       "    <tr>\n",
       "      <th>0</th>\n",
       "      <td>0</td>\n",
       "      <td>15674932</td>\n",
       "      <td>Okwudilichukwu</td>\n",
       "      <td>668</td>\n",
       "      <td>France</td>\n",
       "      <td>Male</td>\n",
       "      <td>33.0</td>\n",
       "      <td>3</td>\n",
       "      <td>0.00</td>\n",
       "      <td>2</td>\n",
       "      <td>1.0</td>\n",
       "      <td>0.0</td>\n",
       "      <td>181449.97</td>\n",
       "      <td>0</td>\n",
       "    </tr>\n",
       "    <tr>\n",
       "      <th>1</th>\n",
       "      <td>1</td>\n",
       "      <td>15749177</td>\n",
       "      <td>Okwudiliolisa</td>\n",
       "      <td>627</td>\n",
       "      <td>France</td>\n",
       "      <td>Male</td>\n",
       "      <td>33.0</td>\n",
       "      <td>1</td>\n",
       "      <td>0.00</td>\n",
       "      <td>2</td>\n",
       "      <td>1.0</td>\n",
       "      <td>1.0</td>\n",
       "      <td>49503.50</td>\n",
       "      <td>0</td>\n",
       "    </tr>\n",
       "    <tr>\n",
       "      <th>2</th>\n",
       "      <td>2</td>\n",
       "      <td>15694510</td>\n",
       "      <td>Hsueh</td>\n",
       "      <td>678</td>\n",
       "      <td>France</td>\n",
       "      <td>Male</td>\n",
       "      <td>40.0</td>\n",
       "      <td>10</td>\n",
       "      <td>0.00</td>\n",
       "      <td>2</td>\n",
       "      <td>1.0</td>\n",
       "      <td>0.0</td>\n",
       "      <td>184866.69</td>\n",
       "      <td>0</td>\n",
       "    </tr>\n",
       "    <tr>\n",
       "      <th>3</th>\n",
       "      <td>3</td>\n",
       "      <td>15741417</td>\n",
       "      <td>Kao</td>\n",
       "      <td>581</td>\n",
       "      <td>France</td>\n",
       "      <td>Male</td>\n",
       "      <td>34.0</td>\n",
       "      <td>2</td>\n",
       "      <td>148882.54</td>\n",
       "      <td>1</td>\n",
       "      <td>1.0</td>\n",
       "      <td>1.0</td>\n",
       "      <td>84560.88</td>\n",
       "      <td>0</td>\n",
       "    </tr>\n",
       "    <tr>\n",
       "      <th>4</th>\n",
       "      <td>4</td>\n",
       "      <td>15766172</td>\n",
       "      <td>Chiemenam</td>\n",
       "      <td>716</td>\n",
       "      <td>Spain</td>\n",
       "      <td>Male</td>\n",
       "      <td>33.0</td>\n",
       "      <td>5</td>\n",
       "      <td>0.00</td>\n",
       "      <td>2</td>\n",
       "      <td>1.0</td>\n",
       "      <td>1.0</td>\n",
       "      <td>15068.83</td>\n",
       "      <td>0</td>\n",
       "    </tr>\n",
       "  </tbody>\n",
       "</table>\n",
       "</div>"
      ],
      "text/plain": [
       "   id  CustomerId         Surname  CreditScore Geography Gender   Age  Tenure  \\\n",
       "0   0    15674932  Okwudilichukwu          668    France   Male  33.0       3   \n",
       "1   1    15749177   Okwudiliolisa          627    France   Male  33.0       1   \n",
       "2   2    15694510           Hsueh          678    France   Male  40.0      10   \n",
       "3   3    15741417             Kao          581    France   Male  34.0       2   \n",
       "4   4    15766172       Chiemenam          716     Spain   Male  33.0       5   \n",
       "\n",
       "     Balance  NumOfProducts  HasCrCard  IsActiveMember  EstimatedSalary  \\\n",
       "0       0.00              2        1.0             0.0        181449.97   \n",
       "1       0.00              2        1.0             1.0         49503.50   \n",
       "2       0.00              2        1.0             0.0        184866.69   \n",
       "3  148882.54              1        1.0             1.0         84560.88   \n",
       "4       0.00              2        1.0             1.0         15068.83   \n",
       "\n",
       "   Exited  \n",
       "0       0  \n",
       "1       0  \n",
       "2       0  \n",
       "3       0  \n",
       "4       0  "
      ]
     },
     "execution_count": 2,
     "metadata": {},
     "output_type": "execute_result"
    }
   ],
   "source": [
    "df_train = pd.read_csv('/kaggle/input/playground-series-s4e1/train.csv')\n",
    "df_train.head()"
   ]
  },
  {
   "cell_type": "code",
   "execution_count": 3,
   "id": "a7f9b0e4",
   "metadata": {
    "execution": {
     "iopub.execute_input": "2024-01-16T06:21:04.307966Z",
     "iopub.status.busy": "2024-01-16T06:21:04.306608Z",
     "iopub.status.idle": "2024-01-16T06:21:04.402821Z",
     "shell.execute_reply": "2024-01-16T06:21:04.401318Z"
    },
    "papermill": {
     "duration": 0.1151,
     "end_time": "2024-01-16T06:21:04.406292",
     "exception": false,
     "start_time": "2024-01-16T06:21:04.291192",
     "status": "completed"
    },
    "tags": []
   },
   "outputs": [
    {
     "name": "stdout",
     "output_type": "stream",
     "text": [
      "<class 'pandas.core.frame.DataFrame'>\n",
      "RangeIndex: 165034 entries, 0 to 165033\n",
      "Data columns (total 14 columns):\n",
      " #   Column           Non-Null Count   Dtype  \n",
      "---  ------           --------------   -----  \n",
      " 0   id               165034 non-null  int64  \n",
      " 1   CustomerId       165034 non-null  int64  \n",
      " 2   Surname          165034 non-null  object \n",
      " 3   CreditScore      165034 non-null  int64  \n",
      " 4   Geography        165034 non-null  object \n",
      " 5   Gender           165034 non-null  object \n",
      " 6   Age              165034 non-null  float64\n",
      " 7   Tenure           165034 non-null  int64  \n",
      " 8   Balance          165034 non-null  float64\n",
      " 9   NumOfProducts    165034 non-null  int64  \n",
      " 10  HasCrCard        165034 non-null  float64\n",
      " 11  IsActiveMember   165034 non-null  float64\n",
      " 12  EstimatedSalary  165034 non-null  float64\n",
      " 13  Exited           165034 non-null  int64  \n",
      "dtypes: float64(5), int64(6), object(3)\n",
      "memory usage: 17.6+ MB\n"
     ]
    }
   ],
   "source": [
    "df_train.info()"
   ]
  },
  {
   "cell_type": "markdown",
   "id": "1bab39dc",
   "metadata": {
    "papermill": {
     "duration": 0.012582,
     "end_time": "2024-01-16T06:21:04.432537",
     "exception": false,
     "start_time": "2024-01-16T06:21:04.419955",
     "status": "completed"
    },
    "tags": []
   },
   "source": [
    "According to the dataset, we have 14 columns and in these columns three of them are categorical features and the rest is numerical features. Also, we do not have any NaN value in our dataset."
   ]
  },
  {
   "cell_type": "markdown",
   "id": "9e57b194",
   "metadata": {
    "papermill": {
     "duration": 0.013376,
     "end_time": "2024-01-16T06:21:04.458997",
     "exception": false,
     "start_time": "2024-01-16T06:21:04.445621",
     "status": "completed"
    },
    "tags": []
   },
   "source": [
    "# Data Analysis"
   ]
  },
  {
   "cell_type": "code",
   "execution_count": 4,
   "id": "c86d7209",
   "metadata": {
    "execution": {
     "iopub.execute_input": "2024-01-16T06:21:04.488891Z",
     "iopub.status.busy": "2024-01-16T06:21:04.488271Z",
     "iopub.status.idle": "2024-01-16T06:21:05.803584Z",
     "shell.execute_reply": "2024-01-16T06:21:05.802260Z"
    },
    "papermill": {
     "duration": 1.334921,
     "end_time": "2024-01-16T06:21:05.807178",
     "exception": false,
     "start_time": "2024-01-16T06:21:04.472257",
     "status": "completed"
    },
    "tags": []
   },
   "outputs": [
    {
     "data": {
      "image/png": "[encoded data removed]",
      "text/plain": [
       "<Figure size 1200x500 with 2 Axes>"
      ]
     },
     "metadata": {},
     "output_type": "display_data"
    }
   ],
   "source": [
    "palette = ['#2986cc', '#c90076']\n",
    "\n",
    "fig, (ax1, ax2) = plt.subplots(1, 2, figsize=(12, 5))\n",
    "\n",
    "ax1.pie(df_train['Gender'].value_counts().values, labels = df_train['Gender'].value_counts().index, autopct='%1.1f%%', colors = palette)\n",
    "ax1.set_title('Ratio of Customer Gender')\n",
    "\n",
    "sns.histplot(data=df_train, x='Age', hue='Gender', palette=palette, bins = 25, ax = ax2)\n",
    "ax2.set_title('Histogram of the Customer Age')\n",
    "plt.show()"
   ]
  },
  {
   "cell_type": "markdown",
   "id": "b5b2d38f",
   "metadata": {
    "papermill": {
     "duration": 0.015901,
     "end_time": "2024-01-16T06:21:05.838079",
     "exception": false,
     "start_time": "2024-01-16T06:21:05.822178",
     "status": "completed"
    },
    "tags": []
   },
   "source": [
    "When the pie chart is examined, approximately 56% of the bank's customers are male customers. According to the histogram, the bank has customers from many age groups. The majority of incoming customers are between the ages of 30-40."
   ]
  },
  {
   "cell_type": "code",
   "execution_count": 5,
   "id": "282b568e",
   "metadata": {
    "execution": {
     "iopub.execute_input": "2024-01-16T06:21:05.870781Z",
     "iopub.status.busy": "2024-01-16T06:21:05.870205Z",
     "iopub.status.idle": "2024-01-16T06:21:06.184057Z",
     "shell.execute_reply": "2024-01-16T06:21:06.182550Z"
    },
    "papermill": {
     "duration": 0.333401,
     "end_time": "2024-01-16T06:21:06.187078",
     "exception": false,
     "start_time": "2024-01-16T06:21:05.853677",
     "status": "completed"
    },
    "tags": []
   },
   "outputs": [
    {
     "data": {
      "image/png": "[encoded data removed]",
      "text/plain": [
       "<Figure size 1200x500 with 2 Axes>"
      ]
     },
     "metadata": {},
     "output_type": "display_data"
    }
   ],
   "source": [
    "colors = ['#8fed8f', '#b08fd8']\n",
    "\n",
    "fig, (ax1, ax2) = plt.subplots(1, 2, figsize=(12, 5))\n",
    "\n",
    "ax1.pie(df_train['HasCrCard'].value_counts().values, labels = ['Yes','No'], autopct='%1.1f%%', colors = colors)\n",
    "ax1.set_title('Ratio of Customer Has Credit Card or Not')\n",
    "\n",
    "ax2.pie(df_train['IsActiveMember'].value_counts().values, labels = ['Active','Not Active'], autopct='%1.1f%%', colors = colors)\n",
    "ax2.set_title('Ratio of Active Customers')\n",
    "\n",
    "plt.show()"
   ]
  },
  {
   "cell_type": "markdown",
   "id": "98b72fa9",
   "metadata": {
    "papermill": {
     "duration": 0.015016,
     "end_time": "2024-01-16T06:21:06.217553",
     "exception": false,
     "start_time": "2024-01-16T06:21:06.202537",
     "status": "completed"
    },
    "tags": []
   },
   "source": [
    "While approximately 75% of bank customers have a credit card, approximately 25% do not have a credit card. When the activity status of the customers is examined, the ratio of the number of active and inactive customers is very close to each other. As seen in the pie chart, approximately 50.2% of customers are active."
   ]
  },
  {
   "cell_type": "code",
   "execution_count": 6,
   "id": "1b6108ae",
   "metadata": {
    "execution": {
     "iopub.execute_input": "2024-01-16T06:21:06.253647Z",
     "iopub.status.busy": "2024-01-16T06:21:06.252872Z",
     "iopub.status.idle": "2024-01-16T06:21:06.713416Z",
     "shell.execute_reply": "2024-01-16T06:21:06.711959Z"
    },
    "papermill": {
     "duration": 0.481727,
     "end_time": "2024-01-16T06:21:06.716446",
     "exception": false,
     "start_time": "2024-01-16T06:21:06.234719",
     "status": "completed"
    },
    "tags": []
   },
   "outputs": [
    {
     "data": {
      "image/png": "[encoded data removed]",
      "text/plain": [
       "<Figure size 640x480 with 1 Axes>"
      ]
     },
     "metadata": {},
     "output_type": "display_data"
    }
   ],
   "source": [
    "sns.countplot(data = df_train, x = \"Geography\")\n",
    "plt.title(\"Customer Location Distribution\")\n",
    "plt.show()"
   ]
  },
  {
   "cell_type": "code",
   "execution_count": 7,
   "id": "36b9885e",
   "metadata": {
    "execution": {
     "iopub.execute_input": "2024-01-16T06:21:06.752292Z",
     "iopub.status.busy": "2024-01-16T06:21:06.751501Z",
     "iopub.status.idle": "2024-01-16T06:21:08.820827Z",
     "shell.execute_reply": "2024-01-16T06:21:08.819460Z"
    },
    "papermill": {
     "duration": 2.090505,
     "end_time": "2024-01-16T06:21:08.824206",
     "exception": false,
     "start_time": "2024-01-16T06:21:06.733701",
     "status": "completed"
    },
    "tags": []
   },
   "outputs": [
    {
     "data": {
      "image/png": "[encoded data removed]",
      "text/plain": [
       "<Figure size 1800x500 with 3 Axes>"
      ]
     },
     "metadata": {},
     "output_type": "display_data"
    }
   ],
   "source": [
    "palette = ['#2986cc', '#c90076']\n",
    "\n",
    "fig, (ax1, ax2, ax3) = plt.subplots(1, 3, figsize=(18, 5))\n",
    "\n",
    "sns.histplot(data = df_train, x = 'CreditScore', hue = 'Gender', palette = palette, bins = 20, ax = ax1)\n",
    "ax1.set_title('Customer Credit Score Distribution')\n",
    "ax1.set_xlabel('Credit Score')\n",
    "\n",
    "sns.histplot(data = df_train, x = 'Tenure', hue = 'Gender', palette = palette, bins = 10, ax = ax2)\n",
    "ax2.set_title('Customer Tenure Distribution')\n",
    "\n",
    "sns.countplot(data = df_train, x = 'NumOfProducts', ax = ax3)\n",
    "ax3.set_title('Customer Product Distribution')\n",
    "ax3.set_xlabel('Number of Products')\n",
    "ax3.set_ylabel('Count')\n",
    "\n",
    "plt.show()"
   ]
  },
  {
   "cell_type": "markdown",
   "id": "6ac2d5ed",
   "metadata": {
    "papermill": {
     "duration": 0.017087,
     "end_time": "2024-01-16T06:21:08.857867",
     "exception": false,
     "start_time": "2024-01-16T06:21:08.840780",
     "status": "completed"
    },
    "tags": []
   },
   "source": [
    "When customers' credit scores are examined, it is seen that the majority of the scores are between 600-700. In addition, the majority of customers have been customers of the bank for 10 years."
   ]
  },
  {
   "cell_type": "code",
   "execution_count": 8,
   "id": "f115ecac",
   "metadata": {
    "execution": {
     "iopub.execute_input": "2024-01-16T06:21:08.893723Z",
     "iopub.status.busy": "2024-01-16T06:21:08.892962Z",
     "iopub.status.idle": "2024-01-16T06:21:09.724617Z",
     "shell.execute_reply": "2024-01-16T06:21:09.722963Z"
    },
    "papermill": {
     "duration": 0.853788,
     "end_time": "2024-01-16T06:21:09.727832",
     "exception": false,
     "start_time": "2024-01-16T06:21:08.874044",
     "status": "completed"
    },
    "tags": []
   },
   "outputs": [
    {
     "data": {
      "image/png": "[encoded data removed]",
      "text/plain": [
       "<Figure size 1200x500 with 2 Axes>"
      ]
     },
     "metadata": {},
     "output_type": "display_data"
    }
   ],
   "source": [
    "fig, (ax1, ax2) = plt.subplots(1, 2, figsize=(12, 5))\n",
    "\n",
    "sns.boxplot(data = df_train, x = 'Gender', y = 'Balance', ax = ax1)\n",
    "ax1.set_title('Customer Balance')\n",
    "\n",
    "sns.boxplot(data = df_train, x = 'Gender', y = 'EstimatedSalary', ax = ax2)\n",
    "ax2.set_title('Customer Estimated Salary')\n",
    "plt.show()"
   ]
  },
  {
   "cell_type": "markdown",
   "id": "83e5191c",
   "metadata": {
    "papermill": {
     "duration": 0.017293,
     "end_time": "2024-01-16T06:21:09.762600",
     "exception": false,
     "start_time": "2024-01-16T06:21:09.745307",
     "status": "completed"
    },
    "tags": []
   },
   "source": [
    "# Modelling"
   ]
  },
  {
   "cell_type": "code",
   "execution_count": 9,
   "id": "6066c46b",
   "metadata": {
    "execution": {
     "iopub.execute_input": "2024-01-16T06:21:09.802198Z",
     "iopub.status.busy": "2024-01-16T06:21:09.801610Z",
     "iopub.status.idle": "2024-01-16T06:21:09.840834Z",
     "shell.execute_reply": "2024-01-16T06:21:09.839423Z"
    },
    "papermill": {
     "duration": 0.063677,
     "end_time": "2024-01-16T06:21:09.844792",
     "exception": false,
     "start_time": "2024-01-16T06:21:09.781115",
     "status": "completed"
    },
    "tags": []
   },
   "outputs": [
    {
     "data": {
      "text/html": [
       "<div>\n",
       "<style scoped>\n",
       "    .dataframe tbody tr th:only-of-type {\n",
       "        vertical-align: middle;\n",
       "    }\n",
       "\n",
       "    .dataframe tbody tr th {\n",
       "        vertical-align: top;\n",
       "    }\n",
       "\n",
       "    .dataframe thead th {\n",
       "        text-align: right;\n",
       "    }\n",
       "</style>\n",
       "<table border=\"1\" class=\"dataframe\">\n",
       "  <thead>\n",
       "    <tr style=\"text-align: right;\">\n",
       "      <th></th>\n",
       "      <th>CreditScore</th>\n",
       "      <th>Geography</th>\n",
       "      <th>Gender</th>\n",
       "      <th>Age</th>\n",
       "      <th>Tenure</th>\n",
       "      <th>Balance</th>\n",
       "      <th>NumOfProducts</th>\n",
       "      <th>HasCrCard</th>\n",
       "      <th>IsActiveMember</th>\n",
       "      <th>EstimatedSalary</th>\n",
       "    </tr>\n",
       "  </thead>\n",
       "  <tbody>\n",
       "    <tr>\n",
       "      <th>0</th>\n",
       "      <td>668</td>\n",
       "      <td>France</td>\n",
       "      <td>Male</td>\n",
       "      <td>33.0</td>\n",
       "      <td>3</td>\n",
       "      <td>0.00</td>\n",
       "      <td>2</td>\n",
       "      <td>1.0</td>\n",
       "      <td>0.0</td>\n",
       "      <td>181449.97</td>\n",
       "    </tr>\n",
       "    <tr>\n",
       "      <th>1</th>\n",
       "      <td>627</td>\n",
       "      <td>France</td>\n",
       "      <td>Male</td>\n",
       "      <td>33.0</td>\n",
       "      <td>1</td>\n",
       "      <td>0.00</td>\n",
       "      <td>2</td>\n",
       "      <td>1.0</td>\n",
       "      <td>1.0</td>\n",
       "      <td>49503.50</td>\n",
       "    </tr>\n",
       "    <tr>\n",
       "      <th>2</th>\n",
       "      <td>678</td>\n",
       "      <td>France</td>\n",
       "      <td>Male</td>\n",
       "      <td>40.0</td>\n",
       "      <td>10</td>\n",
       "      <td>0.00</td>\n",
       "      <td>2</td>\n",
       "      <td>1.0</td>\n",
       "      <td>0.0</td>\n",
       "      <td>184866.69</td>\n",
       "    </tr>\n",
       "    <tr>\n",
       "      <th>3</th>\n",
       "      <td>581</td>\n",
       "      <td>France</td>\n",
       "      <td>Male</td>\n",
       "      <td>34.0</td>\n",
       "      <td>2</td>\n",
       "      <td>148882.54</td>\n",
       "      <td>1</td>\n",
       "      <td>1.0</td>\n",
       "      <td>1.0</td>\n",
       "      <td>84560.88</td>\n",
       "    </tr>\n",
       "    <tr>\n",
       "      <th>4</th>\n",
       "      <td>716</td>\n",
       "      <td>Spain</td>\n",
       "      <td>Male</td>\n",
       "      <td>33.0</td>\n",
       "      <td>5</td>\n",
       "      <td>0.00</td>\n",
       "      <td>2</td>\n",
       "      <td>1.0</td>\n",
       "      <td>1.0</td>\n",
       "      <td>15068.83</td>\n",
       "    </tr>\n",
       "  </tbody>\n",
       "</table>\n",
       "</div>"
      ],
      "text/plain": [
       "   CreditScore Geography Gender   Age  Tenure    Balance  NumOfProducts  \\\n",
       "0          668    France   Male  33.0       3       0.00              2   \n",
       "1          627    France   Male  33.0       1       0.00              2   \n",
       "2          678    France   Male  40.0      10       0.00              2   \n",
       "3          581    France   Male  34.0       2  148882.54              1   \n",
       "4          716     Spain   Male  33.0       5       0.00              2   \n",
       "\n",
       "   HasCrCard  IsActiveMember  EstimatedSalary  \n",
       "0        1.0             0.0        181449.97  \n",
       "1        1.0             1.0         49503.50  \n",
       "2        1.0             0.0        184866.69  \n",
       "3        1.0             1.0         84560.88  \n",
       "4        1.0             1.0         15068.83  "
      ]
     },
     "execution_count": 9,
     "metadata": {},
     "output_type": "execute_result"
    }
   ],
   "source": [
    "# \"id\", \"CustomerId\", \"Surname\" columns do not have any effect on predicting Exited or not.\n",
    "# Therefore, I will drop these columns from dataset.\n",
    "# Also, will drop the class dataset.\n",
    "X = df_train.drop(columns = ['id', 'CustomerId', 'Surname', 'Exited'])\n",
    "y = df_train['Exited']\n",
    "X.head()"
   ]
  },
  {
   "cell_type": "code",
   "execution_count": 10,
   "id": "1e3aebbd",
   "metadata": {
    "execution": {
     "iopub.execute_input": "2024-01-16T06:21:09.882245Z",
     "iopub.status.busy": "2024-01-16T06:21:09.881748Z",
     "iopub.status.idle": "2024-01-16T06:21:09.895224Z",
     "shell.execute_reply": "2024-01-16T06:21:09.893988Z"
    },
    "papermill": {
     "duration": 0.0369,
     "end_time": "2024-01-16T06:21:09.898738",
     "exception": false,
     "start_time": "2024-01-16T06:21:09.861838",
     "status": "completed"
    },
    "tags": []
   },
   "outputs": [],
   "source": [
    "# Converting float to integer\n",
    "# \"HasCrCard\" and \"IsActiveMember\" column variables were float.\n",
    "X['Age'] = X['Age'].astype(int)\n",
    "X['HasCrCard'] = X['HasCrCard'].astype(int)\n",
    "X['IsActiveMember'] = X['IsActiveMember'].astype(int)"
   ]
  },
  {
   "cell_type": "code",
   "execution_count": 11,
   "id": "ab406a9b",
   "metadata": {
    "execution": {
     "iopub.execute_input": "2024-01-16T06:21:09.937763Z",
     "iopub.status.busy": "2024-01-16T06:21:09.936785Z",
     "iopub.status.idle": "2024-01-16T06:21:10.042880Z",
     "shell.execute_reply": "2024-01-16T06:21:10.041354Z"
    },
    "papermill": {
     "duration": 0.128736,
     "end_time": "2024-01-16T06:21:10.046168",
     "exception": false,
     "start_time": "2024-01-16T06:21:09.917432",
     "status": "completed"
    },
    "tags": []
   },
   "outputs": [
    {
     "data": {
      "text/html": [
       "<div>\n",
       "<style scoped>\n",
       "    .dataframe tbody tr th:only-of-type {\n",
       "        vertical-align: middle;\n",
       "    }\n",
       "\n",
       "    .dataframe tbody tr th {\n",
       "        vertical-align: top;\n",
       "    }\n",
       "\n",
       "    .dataframe thead th {\n",
       "        text-align: right;\n",
       "    }\n",
       "</style>\n",
       "<table border=\"1\" class=\"dataframe\">\n",
       "  <thead>\n",
       "    <tr style=\"text-align: right;\">\n",
       "      <th></th>\n",
       "      <th>CreditScore</th>\n",
       "      <th>Age</th>\n",
       "      <th>Tenure</th>\n",
       "      <th>Balance</th>\n",
       "      <th>NumOfProducts</th>\n",
       "      <th>HasCrCard</th>\n",
       "      <th>IsActiveMember</th>\n",
       "      <th>EstimatedSalary</th>\n",
       "      <th>Geography_France</th>\n",
       "      <th>Geography_Germany</th>\n",
       "      <th>Geography_Spain</th>\n",
       "      <th>Gender_Female</th>\n",
       "      <th>Gender_Male</th>\n",
       "    </tr>\n",
       "  </thead>\n",
       "  <tbody>\n",
       "    <tr>\n",
       "      <th>0</th>\n",
       "      <td>668</td>\n",
       "      <td>33</td>\n",
       "      <td>3</td>\n",
       "      <td>0.00</td>\n",
       "      <td>2</td>\n",
       "      <td>1</td>\n",
       "      <td>0</td>\n",
       "      <td>181449.97</td>\n",
       "      <td>True</td>\n",
       "      <td>False</td>\n",
       "      <td>False</td>\n",
       "      <td>False</td>\n",
       "      <td>True</td>\n",
       "    </tr>\n",
       "    <tr>\n",
       "      <th>1</th>\n",
       "      <td>627</td>\n",
       "      <td>33</td>\n",
       "      <td>1</td>\n",
       "      <td>0.00</td>\n",
       "      <td>2</td>\n",
       "      <td>1</td>\n",
       "      <td>1</td>\n",
       "      <td>49503.50</td>\n",
       "      <td>True</td>\n",
       "      <td>False</td>\n",
       "      <td>False</td>\n",
       "      <td>False</td>\n",
       "      <td>True</td>\n",
       "    </tr>\n",
       "    <tr>\n",
       "      <th>2</th>\n",
       "      <td>678</td>\n",
       "      <td>40</td>\n",
       "      <td>10</td>\n",
       "      <td>0.00</td>\n",
       "      <td>2</td>\n",
       "      <td>1</td>\n",
       "      <td>0</td>\n",
       "      <td>184866.69</td>\n",
       "      <td>True</td>\n",
       "      <td>False</td>\n",
       "      <td>False</td>\n",
       "      <td>False</td>\n",
       "      <td>True</td>\n",
       "    </tr>\n",
       "    <tr>\n",
       "      <th>3</th>\n",
       "      <td>581</td>\n",
       "      <td>34</td>\n",
       "      <td>2</td>\n",
       "      <td>148882.54</td>\n",
       "      <td>1</td>\n",
       "      <td>1</td>\n",
       "      <td>1</td>\n",
       "      <td>84560.88</td>\n",
       "      <td>True</td>\n",
       "      <td>False</td>\n",
       "      <td>False</td>\n",
       "      <td>False</td>\n",
       "      <td>True</td>\n",
       "    </tr>\n",
       "    <tr>\n",
       "      <th>4</th>\n",
       "      <td>716</td>\n",
       "      <td>33</td>\n",
       "      <td>5</td>\n",
       "      <td>0.00</td>\n",
       "      <td>2</td>\n",
       "      <td>1</td>\n",
       "      <td>1</td>\n",
       "      <td>15068.83</td>\n",
       "      <td>False</td>\n",
       "      <td>False</td>\n",
       "      <td>True</td>\n",
       "      <td>False</td>\n",
       "      <td>True</td>\n",
       "    </tr>\n",
       "  </tbody>\n",
       "</table>\n",
       "</div>"
      ],
      "text/plain": [
       "   CreditScore  Age  Tenure    Balance  NumOfProducts  HasCrCard  \\\n",
       "0          668   33       3       0.00              2          1   \n",
       "1          627   33       1       0.00              2          1   \n",
       "2          678   40      10       0.00              2          1   \n",
       "3          581   34       2  148882.54              1          1   \n",
       "4          716   33       5       0.00              2          1   \n",
       "\n",
       "   IsActiveMember  EstimatedSalary  Geography_France  Geography_Germany  \\\n",
       "0               0        181449.97              True              False   \n",
       "1               1         49503.50              True              False   \n",
       "2               0        184866.69              True              False   \n",
       "3               1         84560.88              True              False   \n",
       "4               1         15068.83             False              False   \n",
       "\n",
       "   Geography_Spain  Gender_Female  Gender_Male  \n",
       "0            False          False         True  \n",
       "1            False          False         True  \n",
       "2            False          False         True  \n",
       "3            False          False         True  \n",
       "4             True          False         True  "
      ]
     },
     "execution_count": 11,
     "metadata": {},
     "output_type": "execute_result"
    }
   ],
   "source": [
    "# Encoding\n",
    "X_new = pd.get_dummies(X, columns = ['Geography', 'Gender'])\n",
    "X_new.head()"
   ]
  },
  {
   "cell_type": "code",
   "execution_count": 12,
   "id": "6634ed53",
   "metadata": {
    "execution": {
     "iopub.execute_input": "2024-01-16T06:21:10.086856Z",
     "iopub.status.busy": "2024-01-16T06:21:10.086289Z",
     "iopub.status.idle": "2024-01-16T06:21:10.158865Z",
     "shell.execute_reply": "2024-01-16T06:21:10.157372Z"
    },
    "papermill": {
     "duration": 0.09818,
     "end_time": "2024-01-16T06:21:10.162287",
     "exception": false,
     "start_time": "2024-01-16T06:21:10.064107",
     "status": "completed"
    },
    "tags": []
   },
   "outputs": [
    {
     "data": {
      "text/html": [
       "<div>\n",
       "<style scoped>\n",
       "    .dataframe tbody tr th:only-of-type {\n",
       "        vertical-align: middle;\n",
       "    }\n",
       "\n",
       "    .dataframe tbody tr th {\n",
       "        vertical-align: top;\n",
       "    }\n",
       "\n",
       "    .dataframe thead th {\n",
       "        text-align: right;\n",
       "    }\n",
       "</style>\n",
       "<table border=\"1\" class=\"dataframe\">\n",
       "  <thead>\n",
       "    <tr style=\"text-align: right;\">\n",
       "      <th></th>\n",
       "      <th>CreditScore</th>\n",
       "      <th>Age</th>\n",
       "      <th>Tenure</th>\n",
       "      <th>Balance</th>\n",
       "      <th>NumOfProducts</th>\n",
       "      <th>HasCrCard</th>\n",
       "      <th>IsActiveMember</th>\n",
       "      <th>EstimatedSalary</th>\n",
       "      <th>Geography_France</th>\n",
       "      <th>Geography_Germany</th>\n",
       "      <th>Geography_Spain</th>\n",
       "      <th>Gender_Female</th>\n",
       "      <th>Gender_Male</th>\n",
       "    </tr>\n",
       "  </thead>\n",
       "  <tbody>\n",
       "    <tr>\n",
       "      <th>0</th>\n",
       "      <td>0.144135</td>\n",
       "      <td>-0.578074</td>\n",
       "      <td>-0.719973</td>\n",
       "      <td>-0.883163</td>\n",
       "      <td>2</td>\n",
       "      <td>1</td>\n",
       "      <td>0</td>\n",
       "      <td>1.369486</td>\n",
       "      <td>True</td>\n",
       "      <td>False</td>\n",
       "      <td>False</td>\n",
       "      <td>False</td>\n",
       "      <td>True</td>\n",
       "    </tr>\n",
       "    <tr>\n",
       "      <th>1</th>\n",
       "      <td>-0.367706</td>\n",
       "      <td>-0.578074</td>\n",
       "      <td>-1.432694</td>\n",
       "      <td>-0.883163</td>\n",
       "      <td>2</td>\n",
       "      <td>1</td>\n",
       "      <td>1</td>\n",
       "      <td>-1.254085</td>\n",
       "      <td>True</td>\n",
       "      <td>False</td>\n",
       "      <td>False</td>\n",
       "      <td>False</td>\n",
       "      <td>True</td>\n",
       "    </tr>\n",
       "    <tr>\n",
       "      <th>2</th>\n",
       "      <td>0.268974</td>\n",
       "      <td>0.211354</td>\n",
       "      <td>1.774548</td>\n",
       "      <td>-0.883163</td>\n",
       "      <td>2</td>\n",
       "      <td>1</td>\n",
       "      <td>0</td>\n",
       "      <td>1.437422</td>\n",
       "      <td>True</td>\n",
       "      <td>False</td>\n",
       "      <td>False</td>\n",
       "      <td>False</td>\n",
       "      <td>True</td>\n",
       "    </tr>\n",
       "    <tr>\n",
       "      <th>3</th>\n",
       "      <td>-0.941966</td>\n",
       "      <td>-0.465298</td>\n",
       "      <td>-1.076334</td>\n",
       "      <td>1.486918</td>\n",
       "      <td>1</td>\n",
       "      <td>1</td>\n",
       "      <td>1</td>\n",
       "      <td>-0.557018</td>\n",
       "      <td>True</td>\n",
       "      <td>False</td>\n",
       "      <td>False</td>\n",
       "      <td>False</td>\n",
       "      <td>True</td>\n",
       "    </tr>\n",
       "    <tr>\n",
       "      <th>4</th>\n",
       "      <td>0.743362</td>\n",
       "      <td>-0.578074</td>\n",
       "      <td>-0.007253</td>\n",
       "      <td>-0.883163</td>\n",
       "      <td>2</td>\n",
       "      <td>1</td>\n",
       "      <td>1</td>\n",
       "      <td>-1.938770</td>\n",
       "      <td>False</td>\n",
       "      <td>False</td>\n",
       "      <td>True</td>\n",
       "      <td>False</td>\n",
       "      <td>True</td>\n",
       "    </tr>\n",
       "  </tbody>\n",
       "</table>\n",
       "</div>"
      ],
      "text/plain": [
       "   CreditScore       Age    Tenure   Balance  NumOfProducts  HasCrCard  \\\n",
       "0     0.144135 -0.578074 -0.719973 -0.883163              2          1   \n",
       "1    -0.367706 -0.578074 -1.432694 -0.883163              2          1   \n",
       "2     0.268974  0.211354  1.774548 -0.883163              2          1   \n",
       "3    -0.941966 -0.465298 -1.076334  1.486918              1          1   \n",
       "4     0.743362 -0.578074 -0.007253 -0.883163              2          1   \n",
       "\n",
       "   IsActiveMember  EstimatedSalary  Geography_France  Geography_Germany  \\\n",
       "0               0         1.369486              True              False   \n",
       "1               1        -1.254085              True              False   \n",
       "2               0         1.437422              True              False   \n",
       "3               1        -0.557018              True              False   \n",
       "4               1        -1.938770             False              False   \n",
       "\n",
       "   Geography_Spain  Gender_Female  Gender_Male  \n",
       "0            False          False         True  \n",
       "1            False          False         True  \n",
       "2            False          False         True  \n",
       "3            False          False         True  \n",
       "4             True          False         True  "
      ]
     },
     "execution_count": 12,
     "metadata": {},
     "output_type": "execute_result"
    }
   ],
   "source": [
    "# Scaling\n",
    "scaler = StandardScaler()\n",
    "\n",
    "features = ['EstimatedSalary', 'Balance', 'CreditScore', 'Age', 'Tenure']\n",
    "for i in features:\n",
    "    X_new[i] = scaler.fit_transform(X_new[[i]])\n",
    "\n",
    "X_new.head()\n"
   ]
  },
  {
   "cell_type": "code",
   "execution_count": 13,
   "id": "e50c421b",
   "metadata": {
    "execution": {
     "iopub.execute_input": "2024-01-16T06:21:10.202493Z",
     "iopub.status.busy": "2024-01-16T06:21:10.201960Z",
     "iopub.status.idle": "2024-01-16T06:21:10.344976Z",
     "shell.execute_reply": "2024-01-16T06:21:10.343337Z"
    },
    "papermill": {
     "duration": 0.167774,
     "end_time": "2024-01-16T06:21:10.348366",
     "exception": false,
     "start_time": "2024-01-16T06:21:10.180592",
     "status": "completed"
    },
    "tags": []
   },
   "outputs": [],
   "source": [
    "# Train-test split\n",
    "X_train, X_test, y_train, y_test = train_test_split(X_new, y, random_state = 42, stratify = y)"
   ]
  },
  {
   "cell_type": "markdown",
   "id": "5c40a09a",
   "metadata": {
    "papermill": {
     "duration": 0.019074,
     "end_time": "2024-01-16T06:21:10.386021",
     "exception": false,
     "start_time": "2024-01-16T06:21:10.366947",
     "status": "completed"
    },
    "tags": []
   },
   "source": [
    "# XGBoost"
   ]
  },
  {
   "cell_type": "code",
   "execution_count": 14,
   "id": "e6c4a260",
   "metadata": {
    "execution": {
     "iopub.execute_input": "2024-01-16T06:21:10.427725Z",
     "iopub.status.busy": "2024-01-16T06:21:10.427218Z",
     "iopub.status.idle": "2024-01-16T06:21:12.088464Z",
     "shell.execute_reply": "2024-01-16T06:21:12.087387Z"
    },
    "papermill": {
     "duration": 1.686497,
     "end_time": "2024-01-16T06:21:12.091542",
     "exception": false,
     "start_time": "2024-01-16T06:21:10.405045",
     "status": "completed"
    },
    "tags": []
   },
   "outputs": [
    {
     "name": "stdout",
     "output_type": "stream",
     "text": [
      "Accuracy Score: 0.8641023776630553\n"
     ]
    }
   ],
   "source": [
    "# XGBoost\n",
    "import xgboost as xgb\n",
    "\n",
    "xgb_model = xgb.XGBClassifier(objective=\"binary:logistic\", use_label_encoder=False)\n",
    "\n",
    "xgb_model.fit(X_train, y_train)\n",
    "\n",
    "xgb_predictions = xgb_model.predict(X_test)\n",
    "\n",
    "xgb_accuracy = accuracy_score(y_test, xgb_predictions)\n",
    "print(f\"Accuracy Score: {xgb_accuracy}\")"
   ]
  },
  {
   "cell_type": "markdown",
   "id": "2c3be4ee",
   "metadata": {
    "papermill": {
     "duration": 0.019436,
     "end_time": "2024-01-16T06:21:12.131885",
     "exception": false,
     "start_time": "2024-01-16T06:21:12.112449",
     "status": "completed"
    },
    "tags": []
   },
   "source": [
    "# LightGBM"
   ]
  },
  {
   "cell_type": "code",
   "execution_count": 15,
   "id": "a9ce665e",
   "metadata": {
    "execution": {
     "iopub.execute_input": "2024-01-16T06:21:12.270841Z",
     "iopub.status.busy": "2024-01-16T06:21:12.270336Z",
     "iopub.status.idle": "2024-01-16T06:21:16.740913Z",
     "shell.execute_reply": "2024-01-16T06:21:16.739545Z"
    },
    "papermill": {
     "duration": 4.495219,
     "end_time": "2024-01-16T06:21:16.744027",
     "exception": false,
     "start_time": "2024-01-16T06:21:12.248808",
     "status": "completed"
    },
    "tags": []
   },
   "outputs": [
    {
     "name": "stdout",
     "output_type": "stream",
     "text": [
      "[LightGBM] [Warning] feature_fraction is set=0.9, colsample_bytree=1.0 will be ignored. Current value: feature_fraction=0.9\n",
      "Accuracy Score: 0.865265760197775\n"
     ]
    }
   ],
   "source": [
    "# LightGBM\n",
    "import lightgbm as lgb\n",
    "\n",
    "lgb_model = lgb.LGBMClassifier(\n",
    "    objective = 'binary',\n",
    "    metric = 'binary_logloss',\n",
    "    boosting_type = 'gbdt',\n",
    "    num_leaves = 31,\n",
    "    learning_rate = 0.05,\n",
    "    feature_fraction = 0.9,\n",
    "    n_estimators = 100)\n",
    "\n",
    "lgb_model.fit(X_train, y_train)\n",
    "\n",
    "lgb_predictions = lgb_model.predict(X_test)\n",
    "lgb_accuracy = accuracy_score(y_test, lgb_predictions)\n",
    "print(f\"Accuracy Score: {lgb_accuracy}\")"
   ]
  },
  {
   "cell_type": "markdown",
   "id": "a25eb4aa",
   "metadata": {
    "papermill": {
     "duration": 0.019621,
     "end_time": "2024-01-16T06:21:16.784738",
     "exception": false,
     "start_time": "2024-01-16T06:21:16.765117",
     "status": "completed"
    },
    "tags": []
   },
   "source": [
    "# Random Forest"
   ]
  },
  {
   "cell_type": "code",
   "execution_count": 16,
   "id": "956dfaa2",
   "metadata": {
    "execution": {
     "iopub.execute_input": "2024-01-16T06:21:16.827608Z",
     "iopub.status.busy": "2024-01-16T06:21:16.827041Z",
     "iopub.status.idle": "2024-01-16T06:21:47.812048Z",
     "shell.execute_reply": "2024-01-16T06:21:47.810430Z"
    },
    "papermill": {
     "duration": 31.029274,
     "end_time": "2024-01-16T06:21:47.833247",
     "exception": false,
     "start_time": "2024-01-16T06:21:16.803973",
     "status": "completed"
    },
    "tags": []
   },
   "outputs": [
    {
     "name": "stdout",
     "output_type": "stream",
     "text": [
      "Accuracy Score: 0.8566858140042173\n"
     ]
    }
   ],
   "source": [
    "# Random Forest Classifier\n",
    "from sklearn.ensemble import RandomForestClassifier\n",
    "\n",
    "rf_model = RandomForestClassifier(n_estimators=100, random_state=42)\n",
    "\n",
    "rf_model.fit(X_train, y_train)\n",
    "\n",
    "rf_predictions = rf_model.predict(X_test)\n",
    "rf_accuracy = accuracy_score(y_test, rf_predictions)\n",
    "print(f\"Accuracy Score: {rf_accuracy}\")"
   ]
  },
  {
   "cell_type": "code",
   "execution_count": 17,
   "id": "57ef60cf",
   "metadata": {
    "execution": {
     "iopub.execute_input": "2024-01-16T06:21:47.876605Z",
     "iopub.status.busy": "2024-01-16T06:21:47.876095Z",
     "iopub.status.idle": "2024-01-16T06:21:47.885106Z",
     "shell.execute_reply": "2024-01-16T06:21:47.883140Z"
    },
    "papermill": {
     "duration": 0.034935,
     "end_time": "2024-01-16T06:21:47.888333",
     "exception": false,
     "start_time": "2024-01-16T06:21:47.853398",
     "status": "completed"
    },
    "tags": []
   },
   "outputs": [],
   "source": [
    "# Among three different models, LightGBM gave the best accuracy score. \n",
    "# Therefore, I will tune hyperparameters of LightGBM.\n",
    "#param_grid = {\n",
    "#    'boosting_type' : ['gbdt', 'dart', 'goss'],\n",
    "#    'num_leaves' : [31, 40, 50],\n",
    "#    'learning_rate' : [0.02, 0.05, 0.1],\n",
    "#    'n_estimators' : [100, 150, 200]\n",
    "#}\n",
    "\n",
    "#lgb_model = lgb.LGBMClassifier()\n",
    "\n",
    "#grid_search = GridSearchCV(estimator=lgb_model, param_grid=param_grid, scoring='accuracy', cv=3)\n",
    "#grid_result = grid_search.fit(X_train, y_train)\n",
    "\n",
    "#print(\"Best Parameters:\", grid_result.best_params_)\n",
    "#print(\"Best Accuracy Score:\", grid_result.best_score_)\n",
    "\n",
    "#best_model = grid_result.best_estimator_\n",
    "#predictions = best_model.predict(X_test)\n",
    "\n",
    "#accuracy = accuracy_score(y_test, predictions)\n",
    "#print(f\"Test Data Accuracy: {accuracy}\")"
   ]
  },
  {
   "cell_type": "code",
   "execution_count": 18,
   "id": "a9762bec",
   "metadata": {
    "execution": {
     "iopub.execute_input": "2024-01-16T06:21:47.932221Z",
     "iopub.status.busy": "2024-01-16T06:21:47.931755Z",
     "iopub.status.idle": "2024-01-16T06:21:47.937831Z",
     "shell.execute_reply": "2024-01-16T06:21:47.936157Z"
    },
    "papermill": {
     "duration": 0.033173,
     "end_time": "2024-01-16T06:21:47.941345",
     "exception": false,
     "start_time": "2024-01-16T06:21:47.908172",
     "status": "completed"
    },
    "tags": []
   },
   "outputs": [],
   "source": [
    "#cm = confusion_matrix(y_test, predictions)\n",
    "\n",
    "#plt.figure(figsize=(6, 4))\n",
    "#sns.heatmap(cm, annot=True, fmt=\"d\", cmap=\"Blues\")\n",
    "#plt.xlabel('Predictions')\n",
    "#plt.ylabel('Real Values')\n",
    "#plt.title('Confusion Matrix')\n",
    "#plt.show()"
   ]
  },
  {
   "cell_type": "markdown",
   "id": "ab549c37",
   "metadata": {
    "papermill": {
     "duration": 0.019225,
     "end_time": "2024-01-16T06:21:47.981945",
     "exception": false,
     "start_time": "2024-01-16T06:21:47.962720",
     "status": "completed"
    },
    "tags": []
   },
   "source": [
    "# Voting Classifier"
   ]
  },
  {
   "cell_type": "code",
   "execution_count": 19,
   "id": "484f74fb",
   "metadata": {
    "execution": {
     "iopub.execute_input": "2024-01-16T06:21:48.024651Z",
     "iopub.status.busy": "2024-01-16T06:21:48.023400Z",
     "iopub.status.idle": "2024-01-16T06:21:55.073230Z",
     "shell.execute_reply": "2024-01-16T06:21:55.071602Z"
    },
    "papermill": {
     "duration": 7.075233,
     "end_time": "2024-01-16T06:21:55.076236",
     "exception": false,
     "start_time": "2024-01-16T06:21:48.001003",
     "status": "completed"
    },
    "tags": []
   },
   "outputs": [
    {
     "name": "stdout",
     "output_type": "stream",
     "text": [
      "[LightGBM] [Warning] feature_fraction is set=0.9, colsample_bytree=1.0 will be ignored. Current value: feature_fraction=0.9\n",
      "Accuracy of Voting Classifier: 0.8664\n"
     ]
    }
   ],
   "source": [
    "from sklearn.ensemble import VotingClassifier\n",
    "\n",
    "xgb_model = xgb.XGBClassifier(learning_rate =  0.2, max_depth = 4, n_estimators = 150)\n",
    "lgb_model = lgb.LGBMClassifier(\n",
    "    objective = 'binary',\n",
    "    metric = 'binary_logloss',\n",
    "    boosting_type = 'gbdt',\n",
    "    num_leaves = 40,\n",
    "    learning_rate = 0.05,\n",
    "    feature_fraction = 0.9,\n",
    "    n_estimators = 150)\n",
    "\n",
    "voting_clf = VotingClassifier(\n",
    "    estimators = [('xgb', xgb_model), ('lgb', lgb_model)], voting = 'soft', verbose = False)\n",
    "\n",
    "voting_clf.fit(X_train, y_train)\n",
    "\n",
    "y_pred = voting_clf.predict(X_test)\n",
    "\n",
    "accuracy = accuracy_score(y_test, y_pred)\n",
    "print(f\"Accuracy of Voting Classifier: {accuracy:.4f}\")"
   ]
  },
  {
   "cell_type": "code",
   "execution_count": 20,
   "id": "572635ab",
   "metadata": {
    "execution": {
     "iopub.execute_input": "2024-01-16T06:21:55.122686Z",
     "iopub.status.busy": "2024-01-16T06:21:55.121655Z",
     "iopub.status.idle": "2024-01-16T06:21:55.511720Z",
     "shell.execute_reply": "2024-01-16T06:21:55.510328Z"
    },
    "papermill": {
     "duration": 0.418817,
     "end_time": "2024-01-16T06:21:55.514759",
     "exception": false,
     "start_time": "2024-01-16T06:21:55.095942",
     "status": "completed"
    },
    "tags": []
   },
   "outputs": [
    {
     "data": {
      "image/png": "[encoded data removed]",
      "text/plain": [
       "<Figure size 600x400 with 2 Axes>"
      ]
     },
     "metadata": {},
     "output_type": "display_data"
    }
   ],
   "source": [
    "cm = confusion_matrix(y_test, y_pred)\n",
    "\n",
    "plt.figure(figsize=(6, 4))\n",
    "sns.heatmap(cm, annot=True, fmt=\"d\", cmap=\"Blues\")\n",
    "plt.xlabel('Predictions')\n",
    "plt.ylabel('Real Values')\n",
    "plt.title('Confusion Matrix')\n",
    "plt.show()"
   ]
  },
  {
   "cell_type": "markdown",
   "id": "3b6b7b2a",
   "metadata": {
    "papermill": {
     "duration": 0.018769,
     "end_time": "2024-01-16T06:21:55.552723",
     "exception": false,
     "start_time": "2024-01-16T06:21:55.533954",
     "status": "completed"
    },
    "tags": []
   },
   "source": [
    "# Prediction on Test Data"
   ]
  },
  {
   "cell_type": "code",
   "execution_count": 21,
   "id": "74f8ca32",
   "metadata": {
    "execution": {
     "iopub.execute_input": "2024-01-16T06:21:55.595040Z",
     "iopub.status.busy": "2024-01-16T06:21:55.594563Z",
     "iopub.status.idle": "2024-01-16T06:21:55.938890Z",
     "shell.execute_reply": "2024-01-16T06:21:55.937542Z"
    },
    "papermill": {
     "duration": 0.367603,
     "end_time": "2024-01-16T06:21:55.941572",
     "exception": false,
     "start_time": "2024-01-16T06:21:55.573969",
     "status": "completed"
    },
    "tags": []
   },
   "outputs": [
    {
     "data": {
      "text/html": [
       "<div>\n",
       "<style scoped>\n",
       "    .dataframe tbody tr th:only-of-type {\n",
       "        vertical-align: middle;\n",
       "    }\n",
       "\n",
       "    .dataframe tbody tr th {\n",
       "        vertical-align: top;\n",
       "    }\n",
       "\n",
       "    .dataframe thead th {\n",
       "        text-align: right;\n",
       "    }\n",
       "</style>\n",
       "<table border=\"1\" class=\"dataframe\">\n",
       "  <thead>\n",
       "    <tr style=\"text-align: right;\">\n",
       "      <th></th>\n",
       "      <th>id</th>\n",
       "      <th>CustomerId</th>\n",
       "      <th>Surname</th>\n",
       "      <th>CreditScore</th>\n",
       "      <th>Geography</th>\n",
       "      <th>Gender</th>\n",
       "      <th>Age</th>\n",
       "      <th>Tenure</th>\n",
       "      <th>Balance</th>\n",
       "      <th>NumOfProducts</th>\n",
       "      <th>HasCrCard</th>\n",
       "      <th>IsActiveMember</th>\n",
       "      <th>EstimatedSalary</th>\n",
       "    </tr>\n",
       "  </thead>\n",
       "  <tbody>\n",
       "    <tr>\n",
       "      <th>0</th>\n",
       "      <td>165034</td>\n",
       "      <td>15773898</td>\n",
       "      <td>Lucchese</td>\n",
       "      <td>586</td>\n",
       "      <td>France</td>\n",
       "      <td>Female</td>\n",
       "      <td>23.0</td>\n",
       "      <td>2</td>\n",
       "      <td>0.00</td>\n",
       "      <td>2</td>\n",
       "      <td>0.0</td>\n",
       "      <td>1.0</td>\n",
       "      <td>160976.75</td>\n",
       "    </tr>\n",
       "    <tr>\n",
       "      <th>1</th>\n",
       "      <td>165035</td>\n",
       "      <td>15782418</td>\n",
       "      <td>Nott</td>\n",
       "      <td>683</td>\n",
       "      <td>France</td>\n",
       "      <td>Female</td>\n",
       "      <td>46.0</td>\n",
       "      <td>2</td>\n",
       "      <td>0.00</td>\n",
       "      <td>1</td>\n",
       "      <td>1.0</td>\n",
       "      <td>0.0</td>\n",
       "      <td>72549.27</td>\n",
       "    </tr>\n",
       "    <tr>\n",
       "      <th>2</th>\n",
       "      <td>165036</td>\n",
       "      <td>15807120</td>\n",
       "      <td>K?</td>\n",
       "      <td>656</td>\n",
       "      <td>France</td>\n",
       "      <td>Female</td>\n",
       "      <td>34.0</td>\n",
       "      <td>7</td>\n",
       "      <td>0.00</td>\n",
       "      <td>2</td>\n",
       "      <td>1.0</td>\n",
       "      <td>0.0</td>\n",
       "      <td>138882.09</td>\n",
       "    </tr>\n",
       "    <tr>\n",
       "      <th>3</th>\n",
       "      <td>165037</td>\n",
       "      <td>15808905</td>\n",
       "      <td>O'Donnell</td>\n",
       "      <td>681</td>\n",
       "      <td>France</td>\n",
       "      <td>Male</td>\n",
       "      <td>36.0</td>\n",
       "      <td>8</td>\n",
       "      <td>0.00</td>\n",
       "      <td>1</td>\n",
       "      <td>1.0</td>\n",
       "      <td>0.0</td>\n",
       "      <td>113931.57</td>\n",
       "    </tr>\n",
       "    <tr>\n",
       "      <th>4</th>\n",
       "      <td>165038</td>\n",
       "      <td>15607314</td>\n",
       "      <td>Higgins</td>\n",
       "      <td>752</td>\n",
       "      <td>Germany</td>\n",
       "      <td>Male</td>\n",
       "      <td>38.0</td>\n",
       "      <td>10</td>\n",
       "      <td>121263.62</td>\n",
       "      <td>1</td>\n",
       "      <td>1.0</td>\n",
       "      <td>0.0</td>\n",
       "      <td>139431.00</td>\n",
       "    </tr>\n",
       "  </tbody>\n",
       "</table>\n",
       "</div>"
      ],
      "text/plain": [
       "       id  CustomerId    Surname  CreditScore Geography  Gender   Age  Tenure  \\\n",
       "0  165034    15773898   Lucchese          586    France  Female  23.0       2   \n",
       "1  165035    15782418       Nott          683    France  Female  46.0       2   \n",
       "2  165036    15807120         K?          656    France  Female  34.0       7   \n",
       "3  165037    15808905  O'Donnell          681    France    Male  36.0       8   \n",
       "4  165038    15607314    Higgins          752   Germany    Male  38.0      10   \n",
       "\n",
       "     Balance  NumOfProducts  HasCrCard  IsActiveMember  EstimatedSalary  \n",
       "0       0.00              2        0.0             1.0        160976.75  \n",
       "1       0.00              1        1.0             0.0         72549.27  \n",
       "2       0.00              2        1.0             0.0        138882.09  \n",
       "3       0.00              1        1.0             0.0        113931.57  \n",
       "4  121263.62              1        1.0             0.0        139431.00  "
      ]
     },
     "execution_count": 21,
     "metadata": {},
     "output_type": "execute_result"
    }
   ],
   "source": [
    "# Loading Test Data\n",
    "df_test = pd.read_csv('/kaggle/input/playground-series-s4e1/test.csv')\n",
    "df_test.head()"
   ]
  },
  {
   "cell_type": "code",
   "execution_count": 22,
   "id": "2af986d8",
   "metadata": {
    "execution": {
     "iopub.execute_input": "2024-01-16T06:21:55.985878Z",
     "iopub.status.busy": "2024-01-16T06:21:55.985313Z",
     "iopub.status.idle": "2024-01-16T06:21:56.036435Z",
     "shell.execute_reply": "2024-01-16T06:21:56.034984Z"
    },
    "papermill": {
     "duration": 0.077204,
     "end_time": "2024-01-16T06:21:56.039566",
     "exception": false,
     "start_time": "2024-01-16T06:21:55.962362",
     "status": "completed"
    },
    "tags": []
   },
   "outputs": [
    {
     "name": "stdout",
     "output_type": "stream",
     "text": [
      "<class 'pandas.core.frame.DataFrame'>\n",
      "RangeIndex: 110023 entries, 0 to 110022\n",
      "Data columns (total 13 columns):\n",
      " #   Column           Non-Null Count   Dtype  \n",
      "---  ------           --------------   -----  \n",
      " 0   id               110023 non-null  int64  \n",
      " 1   CustomerId       110023 non-null  int64  \n",
      " 2   Surname          110023 non-null  object \n",
      " 3   CreditScore      110023 non-null  int64  \n",
      " 4   Geography        110023 non-null  object \n",
      " 5   Gender           110023 non-null  object \n",
      " 6   Age              110023 non-null  float64\n",
      " 7   Tenure           110023 non-null  int64  \n",
      " 8   Balance          110023 non-null  float64\n",
      " 9   NumOfProducts    110023 non-null  int64  \n",
      " 10  HasCrCard        110023 non-null  float64\n",
      " 11  IsActiveMember   110023 non-null  float64\n",
      " 12  EstimatedSalary  110023 non-null  float64\n",
      "dtypes: float64(5), int64(5), object(3)\n",
      "memory usage: 10.9+ MB\n"
     ]
    }
   ],
   "source": [
    "df_test.info()"
   ]
  },
  {
   "cell_type": "code",
   "execution_count": 23,
   "id": "739cad79",
   "metadata": {
    "execution": {
     "iopub.execute_input": "2024-01-16T06:21:56.084894Z",
     "iopub.status.busy": "2024-01-16T06:21:56.084066Z",
     "iopub.status.idle": "2024-01-16T06:21:56.196597Z",
     "shell.execute_reply": "2024-01-16T06:21:56.195549Z"
    },
    "papermill": {
     "duration": 0.139403,
     "end_time": "2024-01-16T06:21:56.199806",
     "exception": false,
     "start_time": "2024-01-16T06:21:56.060403",
     "status": "completed"
    },
    "tags": []
   },
   "outputs": [
    {
     "data": {
      "text/html": [
       "<div>\n",
       "<style scoped>\n",
       "    .dataframe tbody tr th:only-of-type {\n",
       "        vertical-align: middle;\n",
       "    }\n",
       "\n",
       "    .dataframe tbody tr th {\n",
       "        vertical-align: top;\n",
       "    }\n",
       "\n",
       "    .dataframe thead th {\n",
       "        text-align: right;\n",
       "    }\n",
       "</style>\n",
       "<table border=\"1\" class=\"dataframe\">\n",
       "  <thead>\n",
       "    <tr style=\"text-align: right;\">\n",
       "      <th></th>\n",
       "      <th>CreditScore</th>\n",
       "      <th>Age</th>\n",
       "      <th>Tenure</th>\n",
       "      <th>Balance</th>\n",
       "      <th>NumOfProducts</th>\n",
       "      <th>HasCrCard</th>\n",
       "      <th>IsActiveMember</th>\n",
       "      <th>EstimatedSalary</th>\n",
       "      <th>Geography_France</th>\n",
       "      <th>Geography_Germany</th>\n",
       "      <th>Geography_Spain</th>\n",
       "      <th>Gender_Female</th>\n",
       "      <th>Gender_Male</th>\n",
       "    </tr>\n",
       "  </thead>\n",
       "  <tbody>\n",
       "    <tr>\n",
       "      <th>0</th>\n",
       "      <td>-0.878176</td>\n",
       "      <td>-1.706501</td>\n",
       "      <td>-1.067887</td>\n",
       "      <td>-0.881274</td>\n",
       "      <td>2</td>\n",
       "      <td>0</td>\n",
       "      <td>1</td>\n",
       "      <td>0.967874</td>\n",
       "      <td>True</td>\n",
       "      <td>False</td>\n",
       "      <td>False</td>\n",
       "      <td>True</td>\n",
       "      <td>False</td>\n",
       "    </tr>\n",
       "    <tr>\n",
       "      <th>1</th>\n",
       "      <td>0.329567</td>\n",
       "      <td>0.888994</td>\n",
       "      <td>-1.067887</td>\n",
       "      <td>-0.881274</td>\n",
       "      <td>1</td>\n",
       "      <td>1</td>\n",
       "      <td>0</td>\n",
       "      <td>-0.790939</td>\n",
       "      <td>True</td>\n",
       "      <td>False</td>\n",
       "      <td>False</td>\n",
       "      <td>True</td>\n",
       "      <td>False</td>\n",
       "    </tr>\n",
       "    <tr>\n",
       "      <th>2</th>\n",
       "      <td>-0.006609</td>\n",
       "      <td>-0.465177</td>\n",
       "      <td>0.713922</td>\n",
       "      <td>-0.881274</td>\n",
       "      <td>2</td>\n",
       "      <td>1</td>\n",
       "      <td>0</td>\n",
       "      <td>0.528413</td>\n",
       "      <td>True</td>\n",
       "      <td>False</td>\n",
       "      <td>False</td>\n",
       "      <td>True</td>\n",
       "      <td>False</td>\n",
       "    </tr>\n",
       "    <tr>\n",
       "      <th>3</th>\n",
       "      <td>0.304665</td>\n",
       "      <td>-0.239482</td>\n",
       "      <td>1.070284</td>\n",
       "      <td>-0.881274</td>\n",
       "      <td>1</td>\n",
       "      <td>1</td>\n",
       "      <td>0</td>\n",
       "      <td>0.032150</td>\n",
       "      <td>True</td>\n",
       "      <td>False</td>\n",
       "      <td>False</td>\n",
       "      <td>False</td>\n",
       "      <td>True</td>\n",
       "    </tr>\n",
       "    <tr>\n",
       "      <th>4</th>\n",
       "      <td>1.188684</td>\n",
       "      <td>-0.013787</td>\n",
       "      <td>1.783008</td>\n",
       "      <td>1.050038</td>\n",
       "      <td>1</td>\n",
       "      <td>1</td>\n",
       "      <td>0</td>\n",
       "      <td>0.539331</td>\n",
       "      <td>False</td>\n",
       "      <td>True</td>\n",
       "      <td>False</td>\n",
       "      <td>False</td>\n",
       "      <td>True</td>\n",
       "    </tr>\n",
       "  </tbody>\n",
       "</table>\n",
       "</div>"
      ],
      "text/plain": [
       "   CreditScore       Age    Tenure   Balance  NumOfProducts  HasCrCard  \\\n",
       "0    -0.878176 -1.706501 -1.067887 -0.881274              2          0   \n",
       "1     0.329567  0.888994 -1.067887 -0.881274              1          1   \n",
       "2    -0.006609 -0.465177  0.713922 -0.881274              2          1   \n",
       "3     0.304665 -0.239482  1.070284 -0.881274              1          1   \n",
       "4     1.188684 -0.013787  1.783008  1.050038              1          1   \n",
       "\n",
       "   IsActiveMember  EstimatedSalary  Geography_France  Geography_Germany  \\\n",
       "0               1         0.967874              True              False   \n",
       "1               0        -0.790939              True              False   \n",
       "2               0         0.528413              True              False   \n",
       "3               0         0.032150              True              False   \n",
       "4               0         0.539331             False               True   \n",
       "\n",
       "   Geography_Spain  Gender_Female  Gender_Male  \n",
       "0            False           True        False  \n",
       "1            False           True        False  \n",
       "2            False           True        False  \n",
       "3            False          False         True  \n",
       "4            False          False         True  "
      ]
     },
     "execution_count": 23,
     "metadata": {},
     "output_type": "execute_result"
    }
   ],
   "source": [
    "# Removing unnecessary columns\n",
    "df_test_new = df_test.drop(columns = ['id','CustomerId', 'Surname'])\n",
    "\n",
    "# Converting float features to int\n",
    "df_test_new['HasCrCard'] = df_test_new['HasCrCard'].astype(int)\n",
    "df_test_new['IsActiveMember'] = df_test_new['IsActiveMember'].astype(int)\n",
    "df_test_new['Age'] = df_test_new['Age'].astype(int)\n",
    "\n",
    "# Encoding\n",
    "df_test_new = pd.get_dummies(df_test_new, columns = ['Geography', 'Gender'])\n",
    "\n",
    "# Scaling\n",
    "scaler = StandardScaler()\n",
    "\n",
    "features = ['EstimatedSalary', 'Balance', 'CreditScore', 'Age', 'Tenure']\n",
    "for i in features:\n",
    "    df_test_new[i] = scaler.fit_transform(df_test_new[[i]])\n",
    "df_test_new.head()"
   ]
  },
  {
   "cell_type": "code",
   "execution_count": 24,
   "id": "c6f8f809",
   "metadata": {
    "execution": {
     "iopub.execute_input": "2024-01-16T06:21:56.242908Z",
     "iopub.status.busy": "2024-01-16T06:21:56.242129Z",
     "iopub.status.idle": "2024-01-16T06:21:57.310177Z",
     "shell.execute_reply": "2024-01-16T06:21:57.308961Z"
    },
    "papermill": {
     "duration": 1.093393,
     "end_time": "2024-01-16T06:21:57.313197",
     "exception": false,
     "start_time": "2024-01-16T06:21:56.219804",
     "status": "completed"
    },
    "tags": []
   },
   "outputs": [],
   "source": [
    "test_predictions = (voting_clf.predict_proba(df_test_new))[:,1]"
   ]
  },
  {
   "cell_type": "code",
   "execution_count": 25,
   "id": "03beb89a",
   "metadata": {
    "execution": {
     "iopub.execute_input": "2024-01-16T06:21:57.360198Z",
     "iopub.status.busy": "2024-01-16T06:21:57.359321Z",
     "iopub.status.idle": "2024-01-16T06:21:57.366806Z",
     "shell.execute_reply": "2024-01-16T06:21:57.365672Z"
    },
    "papermill": {
     "duration": 0.034396,
     "end_time": "2024-01-16T06:21:57.370547",
     "exception": false,
     "start_time": "2024-01-16T06:21:57.336151",
     "status": "completed"
    },
    "tags": []
   },
   "outputs": [
    {
     "data": {
      "text/plain": [
       "array([0.03159919, 0.79217938, 0.02819012, ..., 0.01681643, 0.14480718,\n",
       "       0.18724002])"
      ]
     },
     "execution_count": 25,
     "metadata": {},
     "output_type": "execute_result"
    }
   ],
   "source": [
    "test_predictions"
   ]
  },
  {
   "cell_type": "code",
   "execution_count": 26,
   "id": "ada4721d",
   "metadata": {
    "execution": {
     "iopub.execute_input": "2024-01-16T06:21:57.417933Z",
     "iopub.status.busy": "2024-01-16T06:21:57.417097Z",
     "iopub.status.idle": "2024-01-16T06:21:57.430134Z",
     "shell.execute_reply": "2024-01-16T06:21:57.429090Z"
    },
    "papermill": {
     "duration": 0.040778,
     "end_time": "2024-01-16T06:21:57.432739",
     "exception": false,
     "start_time": "2024-01-16T06:21:57.391961",
     "status": "completed"
    },
    "tags": []
   },
   "outputs": [
    {
     "data": {
      "text/html": [
       "<div>\n",
       "<style scoped>\n",
       "    .dataframe tbody tr th:only-of-type {\n",
       "        vertical-align: middle;\n",
       "    }\n",
       "\n",
       "    .dataframe tbody tr th {\n",
       "        vertical-align: top;\n",
       "    }\n",
       "\n",
       "    .dataframe thead th {\n",
       "        text-align: right;\n",
       "    }\n",
       "</style>\n",
       "<table border=\"1\" class=\"dataframe\">\n",
       "  <thead>\n",
       "    <tr style=\"text-align: right;\">\n",
       "      <th></th>\n",
       "      <th>id</th>\n",
       "      <th>Exited</th>\n",
       "    </tr>\n",
       "  </thead>\n",
       "  <tbody>\n",
       "    <tr>\n",
       "      <th>0</th>\n",
       "      <td>165034</td>\n",
       "      <td>0.031599</td>\n",
       "    </tr>\n",
       "    <tr>\n",
       "      <th>1</th>\n",
       "      <td>165035</td>\n",
       "      <td>0.792179</td>\n",
       "    </tr>\n",
       "    <tr>\n",
       "      <th>2</th>\n",
       "      <td>165036</td>\n",
       "      <td>0.028190</td>\n",
       "    </tr>\n",
       "    <tr>\n",
       "      <th>3</th>\n",
       "      <td>165037</td>\n",
       "      <td>0.228300</td>\n",
       "    </tr>\n",
       "    <tr>\n",
       "      <th>4</th>\n",
       "      <td>165038</td>\n",
       "      <td>0.383736</td>\n",
       "    </tr>\n",
       "  </tbody>\n",
       "</table>\n",
       "</div>"
      ],
      "text/plain": [
       "       id    Exited\n",
       "0  165034  0.031599\n",
       "1  165035  0.792179\n",
       "2  165036  0.028190\n",
       "3  165037  0.228300\n",
       "4  165038  0.383736"
      ]
     },
     "execution_count": 26,
     "metadata": {},
     "output_type": "execute_result"
    }
   ],
   "source": [
    "output = pd.DataFrame({'id': df_test.id, 'Exited': test_predictions})\n",
    "output.head()"
   ]
  },
  {
   "cell_type": "code",
   "execution_count": 27,
   "id": "cd66def5",
   "metadata": {
    "execution": {
     "iopub.execute_input": "2024-01-16T06:21:57.476402Z",
     "iopub.status.busy": "2024-01-16T06:21:57.475272Z",
     "iopub.status.idle": "2024-01-16T06:21:57.989207Z",
     "shell.execute_reply": "2024-01-16T06:21:57.988045Z"
    },
    "papermill": {
     "duration": 0.538772,
     "end_time": "2024-01-16T06:21:57.991953",
     "exception": false,
     "start_time": "2024-01-16T06:21:57.453181",
     "status": "completed"
    },
    "tags": []
   },
   "outputs": [
    {
     "name": "stdout",
     "output_type": "stream",
     "text": [
      "Your submission was successfully saved!\n"
     ]
    }
   ],
   "source": [
    "output.to_csv('submission.csv', index=False)\n",
    "print(\"Your submission was successfully saved!\")"
   ]
  },
  {
   "cell_type": "code",
   "execution_count": null,
   "id": "fe93a71b",
   "metadata": {
    "papermill": {
     "duration": 0.020505,
     "end_time": "2024-01-16T06:21:58.035584",
     "exception": false,
     "start_time": "2024-01-16T06:21:58.015079",
     "status": "completed"
    },
    "tags": []
   },
   "outputs": [],
   "source": []
  }
 ],
 "metadata": {
  "kaggle": {
   "accelerator": "none",
   "dataSources": [
    {
     "databundleVersionId": 7405009,
     "sourceId": 65711,
     "sourceType": "competition"
    }
   ],
   "dockerImageVersionId": 30635,
   "isGpuEnabled": false,
   "isInternetEnabled": true,
   "language": "python",
   "sourceType": "notebook"
  },
  "kernelspec": {
   "display_name": "Python 3",
   "language": "python",
   "name": "python3"
  },
  "language_info": {
   "codemirror_mode": {
    "name": "ipython",
    "version": 3
   },
   "file_extension": ".py",
   "mimetype": "text/x-python",
   "name": "python",
   "nbconvert_exporter": "python",
   "pygments_lexer": "ipython3",
   "version": "3.10.12"
  },
  "papermill": {
   "default_parameters": {},
   "duration": 63.131871,
   "end_time": "2024-01-16T06:21:59.385561",
   "environment_variables": {},
   "exception": null,
   "input_path": "__notebook__.ipynb",
   "output_path": "__notebook__.ipynb",
   "parameters": {},
   "start_time": "2024-01-16T06:20:56.253690",
   "version": "2.4.0"
  }
 },
 "nbformat": 4,
 "nbformat_minor": 5
}
