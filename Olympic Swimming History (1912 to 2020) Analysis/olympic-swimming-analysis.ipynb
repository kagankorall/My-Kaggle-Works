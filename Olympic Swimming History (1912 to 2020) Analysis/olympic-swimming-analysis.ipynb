{
 "cells": [
  {
   "cell_type": "code",
   "execution_count": 1,
   "id": "334a3085",
   "metadata": {
    "_cell_guid": "b1076dfc-b9ad-4769-8c92-a6c4dae69d19",
    "_uuid": "8f2839f25d086af736a60e9eeb907d3b93b6e0e5",
    "execution": {
     "iopub.execute_input": "2023-05-28T21:22:08.529280Z",
     "iopub.status.busy": "2023-05-28T21:22:08.528905Z",
     "iopub.status.idle": "2023-05-28T21:22:10.130605Z",
     "shell.execute_reply": "2023-05-28T21:22:10.128972Z"
    },
    "papermill": {
     "duration": 1.611012,
     "end_time": "2023-05-28T21:22:10.133136",
     "exception": false,
     "start_time": "2023-05-28T21:22:08.522124",
     "status": "completed"
    },
    "tags": []
   },
   "outputs": [
    {
     "name": "stdout",
     "output_type": "stream",
     "text": [
      "/kaggle/input/olympic-swimming-1912-to-2020/Olympic_Swimming_Results_1912to2020.csv\n"
     ]
    }
   ],
   "source": [
    "import numpy as np # linear algebra\n",
    "import pandas as pd # data processing, CSV file I/O (e.g. pd.read_csv)\n",
    "import matplotlib.pyplot as plt\n",
    "import seaborn as sns\n",
    "\n",
    "import os\n",
    "for dirname, _, filenames in os.walk('/kaggle/input'):\n",
    "    for filename in filenames:\n",
    "        print(os.path.join(dirname, filename))"
   ]
  },
  {
   "cell_type": "code",
   "execution_count": 2,
   "id": "7dc7feec",
   "metadata": {
    "execution": {
     "iopub.execute_input": "2023-05-28T21:22:10.144126Z",
     "iopub.status.busy": "2023-05-28T21:22:10.143638Z",
     "iopub.status.idle": "2023-05-28T21:22:10.211437Z",
     "shell.execute_reply": "2023-05-28T21:22:10.210461Z"
    },
    "papermill": {
     "duration": 0.076082,
     "end_time": "2023-05-28T21:22:10.213882",
     "exception": false,
     "start_time": "2023-05-28T21:22:10.137800",
     "status": "completed"
    },
    "tags": []
   },
   "outputs": [
    {
     "data": {
      "text/html": [
       "<div>\n",
       "<style scoped>\n",
       "    .dataframe tbody tr th:only-of-type {\n",
       "        vertical-align: middle;\n",
       "    }\n",
       "\n",
       "    .dataframe tbody tr th {\n",
       "        vertical-align: top;\n",
       "    }\n",
       "\n",
       "    .dataframe thead th {\n",
       "        text-align: right;\n",
       "    }\n",
       "</style>\n",
       "<table border=\"1\" class=\"dataframe\">\n",
       "  <thead>\n",
       "    <tr style=\"text-align: right;\">\n",
       "      <th></th>\n",
       "      <th>Location</th>\n",
       "      <th>Year</th>\n",
       "      <th>Distance (in meters)</th>\n",
       "      <th>Stroke</th>\n",
       "      <th>Relay?</th>\n",
       "      <th>Gender</th>\n",
       "      <th>Team</th>\n",
       "      <th>Athlete</th>\n",
       "      <th>Results</th>\n",
       "      <th>Rank</th>\n",
       "    </tr>\n",
       "  </thead>\n",
       "  <tbody>\n",
       "    <tr>\n",
       "      <th>0</th>\n",
       "      <td>Tokyo</td>\n",
       "      <td>2020</td>\n",
       "      <td>100m</td>\n",
       "      <td>Backstroke</td>\n",
       "      <td>0</td>\n",
       "      <td>Men</td>\n",
       "      <td>ROC</td>\n",
       "      <td>Evgeny Rylov</td>\n",
       "      <td>51.98</td>\n",
       "      <td>1</td>\n",
       "    </tr>\n",
       "    <tr>\n",
       "      <th>1</th>\n",
       "      <td>Tokyo</td>\n",
       "      <td>2020</td>\n",
       "      <td>100m</td>\n",
       "      <td>Backstroke</td>\n",
       "      <td>0</td>\n",
       "      <td>Men</td>\n",
       "      <td>ROC</td>\n",
       "      <td>Kliment Kolesnikov</td>\n",
       "      <td>52</td>\n",
       "      <td>2</td>\n",
       "    </tr>\n",
       "    <tr>\n",
       "      <th>2</th>\n",
       "      <td>Tokyo</td>\n",
       "      <td>2020</td>\n",
       "      <td>100m</td>\n",
       "      <td>Backstroke</td>\n",
       "      <td>0</td>\n",
       "      <td>Men</td>\n",
       "      <td>USA</td>\n",
       "      <td>Ryan Murphy</td>\n",
       "      <td>52.19</td>\n",
       "      <td>3</td>\n",
       "    </tr>\n",
       "    <tr>\n",
       "      <th>3</th>\n",
       "      <td>Tokyo</td>\n",
       "      <td>2020</td>\n",
       "      <td>100m</td>\n",
       "      <td>Backstroke</td>\n",
       "      <td>0</td>\n",
       "      <td>Men</td>\n",
       "      <td>ITA</td>\n",
       "      <td>Thomas Ceccon</td>\n",
       "      <td>52.3</td>\n",
       "      <td>4</td>\n",
       "    </tr>\n",
       "    <tr>\n",
       "      <th>4</th>\n",
       "      <td>Tokyo</td>\n",
       "      <td>2020</td>\n",
       "      <td>100m</td>\n",
       "      <td>Backstroke</td>\n",
       "      <td>0</td>\n",
       "      <td>Men</td>\n",
       "      <td>CHN</td>\n",
       "      <td>Jiayu Xu</td>\n",
       "      <td>52.51</td>\n",
       "      <td>4</td>\n",
       "    </tr>\n",
       "  </tbody>\n",
       "</table>\n",
       "</div>"
      ],
      "text/plain": [
       "  Location  Year Distance (in meters)      Stroke  Relay? Gender Team  \\\n",
       "0    Tokyo  2020                 100m  Backstroke       0    Men  ROC   \n",
       "1    Tokyo  2020                 100m  Backstroke       0    Men  ROC   \n",
       "2    Tokyo  2020                 100m  Backstroke       0    Men  USA   \n",
       "3    Tokyo  2020                 100m  Backstroke       0    Men  ITA   \n",
       "4    Tokyo  2020                 100m  Backstroke       0    Men  CHN   \n",
       "\n",
       "              Athlete Results  Rank  \n",
       "0        Evgeny Rylov   51.98     1  \n",
       "1  Kliment Kolesnikov      52     2  \n",
       "2         Ryan Murphy   52.19     3  \n",
       "3       Thomas Ceccon    52.3     4  \n",
       "4            Jiayu Xu   52.51     4  "
      ]
     },
     "execution_count": 2,
     "metadata": {},
     "output_type": "execute_result"
    }
   ],
   "source": [
    "df = pd.read_csv('/kaggle/input/olympic-swimming-1912-to-2020/Olympic_Swimming_Results_1912to2020.csv')\n",
    "df.head(5)"
   ]
  },
  {
   "cell_type": "code",
   "execution_count": 3,
   "id": "578be184",
   "metadata": {
    "execution": {
     "iopub.execute_input": "2023-05-28T21:22:10.225555Z",
     "iopub.status.busy": "2023-05-28T21:22:10.224952Z",
     "iopub.status.idle": "2023-05-28T21:22:10.244564Z",
     "shell.execute_reply": "2023-05-28T21:22:10.242767Z"
    },
    "papermill": {
     "duration": 0.028737,
     "end_time": "2023-05-28T21:22:10.247396",
     "exception": false,
     "start_time": "2023-05-28T21:22:10.218659",
     "status": "completed"
    },
    "tags": []
   },
   "outputs": [
    {
     "data": {
      "text/plain": [
       "Location                 0\n",
       "Year                     0\n",
       "Distance (in meters)     0\n",
       "Stroke                   0\n",
       "Relay?                   0\n",
       "Gender                   0\n",
       "Team                     0\n",
       "Athlete                 14\n",
       "Results                 28\n",
       "Rank                     0\n",
       "dtype: int64"
      ]
     },
     "execution_count": 3,
     "metadata": {},
     "output_type": "execute_result"
    }
   ],
   "source": [
    "df.isnull().sum()"
   ]
  },
  {
   "cell_type": "markdown",
   "id": "a9c3887e",
   "metadata": {
    "papermill": {
     "duration": 0.004156,
     "end_time": "2023-05-28T21:22:10.256252",
     "exception": false,
     "start_time": "2023-05-28T21:22:10.252096",
     "status": "completed"
    },
    "tags": []
   },
   "source": [
    "**As we can see from the above result, there are some null values in the Athlete and Results features**"
   ]
  },
  {
   "cell_type": "code",
   "execution_count": 4,
   "id": "af81a7d9",
   "metadata": {
    "execution": {
     "iopub.execute_input": "2023-05-28T21:22:10.266604Z",
     "iopub.status.busy": "2023-05-28T21:22:10.266250Z",
     "iopub.status.idle": "2023-05-28T21:22:10.622601Z",
     "shell.execute_reply": "2023-05-28T21:22:10.621398Z"
    },
    "papermill": {
     "duration": 0.365005,
     "end_time": "2023-05-28T21:22:10.625704",
     "exception": false,
     "start_time": "2023-05-28T21:22:10.260699",
     "status": "completed"
    },
    "tags": []
   },
   "outputs": [
    {
     "data": {
      "image/png": "[encoded data removed]",
      "text/plain": [
       "<Figure size 800x600 with 1 Axes>"
      ]
     },
     "metadata": {},
     "output_type": "display_data"
    }
   ],
   "source": [
    "plt.figure(figsize=(8,6))\n",
    "sns.barplot(x=df['Year'].value_counts().index, y=df['Year'].value_counts().values, palette = 'crest')\n",
    "plt.xticks(rotation=90)\n",
    "plt.show()"
   ]
  },
  {
   "cell_type": "markdown",
   "id": "52d47758",
   "metadata": {
    "papermill": {
     "duration": 0.00458,
     "end_time": "2023-05-28T21:22:10.635320",
     "exception": false,
     "start_time": "2023-05-28T21:22:10.630740",
     "status": "completed"
    },
    "tags": []
   },
   "source": [
    "**As can be seen from the bar graph, although there are small decreases in between, an increase has been observed in the number of athletes participating in the Olympics over the years.**"
   ]
  },
  {
   "cell_type": "code",
   "execution_count": 5,
   "id": "bca0e7b2",
   "metadata": {
    "execution": {
     "iopub.execute_input": "2023-05-28T21:22:10.649872Z",
     "iopub.status.busy": "2023-05-28T21:22:10.649163Z",
     "iopub.status.idle": "2023-05-28T21:22:10.767102Z",
     "shell.execute_reply": "2023-05-28T21:22:10.765913Z"
    },
    "papermill": {
     "duration": 0.126779,
     "end_time": "2023-05-28T21:22:10.769314",
     "exception": false,
     "start_time": "2023-05-28T21:22:10.642535",
     "status": "completed"
    },
    "tags": []
   },
   "outputs": [
    {
     "data": {
      "image/png": "[encoded data removed]",
      "text/plain": [
       "<Figure size 640x480 with 1 Axes>"
      ]
     },
     "metadata": {},
     "output_type": "display_data"
    }
   ],
   "source": [
    "plt.pie(df['Gender'].value_counts().values, labels = df['Gender'].value_counts().index, autopct='%1.1f%%')\n",
    "plt.title('Ratios of Man & Woman Swimmers in Olympics')\n",
    "plt.show()"
   ]
  },
  {
   "cell_type": "markdown",
   "id": "77356998",
   "metadata": {
    "papermill": {
     "duration": 0.006047,
     "end_time": "2023-05-28T21:22:10.782039",
     "exception": false,
     "start_time": "2023-05-28T21:22:10.775992",
     "status": "completed"
    },
    "tags": []
   },
   "source": [
    "**According to the result in the pie chart above, more than half of the swimmers participating in the Olympics are male athletes.**"
   ]
  },
  {
   "cell_type": "code",
   "execution_count": 6,
   "id": "9c973388",
   "metadata": {
    "execution": {
     "iopub.execute_input": "2023-05-28T21:22:10.798168Z",
     "iopub.status.busy": "2023-05-28T21:22:10.796927Z",
     "iopub.status.idle": "2023-05-28T21:22:11.032363Z",
     "shell.execute_reply": "2023-05-28T21:22:11.030246Z"
    },
    "papermill": {
     "duration": 0.246935,
     "end_time": "2023-05-28T21:22:11.035989",
     "exception": false,
     "start_time": "2023-05-28T21:22:10.789054",
     "status": "completed"
    },
    "tags": []
   },
   "outputs": [
    {
     "data": {
      "image/png": "[encoded data removed]",
      "text/plain": [
       "<Figure size 640x480 with 1 Axes>"
      ]
     },
     "metadata": {},
     "output_type": "display_data"
    }
   ],
   "source": [
    "top5_athlete = df['Athlete'].value_counts()[:5]\n",
    "sns.barplot(x=top5_athlete.index, y=top5_athlete.values)\n",
    "plt.xticks(rotation=45)\n",
    "plt.title('Top 5 Athletes')\n",
    "plt.xlabel('Teams')\n",
    "plt.ylabel('# of Competitions')\n",
    "plt.grid(alpha=0.5)\n",
    "plt.show()"
   ]
  },
  {
   "cell_type": "markdown",
   "id": "94d84dc3",
   "metadata": {
    "papermill": {
     "duration": 0.006463,
     "end_time": "2023-05-28T21:22:11.048737",
     "exception": false,
     "start_time": "2023-05-28T21:22:11.042274",
     "status": "completed"
    },
    "tags": []
   },
   "source": [
    "**When the bar graph is examined, Michael Phelps is the athlete who competes the most in the Olympics with 18 swimming competitions he participated in.**"
   ]
  },
  {
   "cell_type": "code",
   "execution_count": 7,
   "id": "82f48e6d",
   "metadata": {
    "execution": {
     "iopub.execute_input": "2023-05-28T21:22:11.062967Z",
     "iopub.status.busy": "2023-05-28T21:22:11.061786Z",
     "iopub.status.idle": "2023-05-28T21:22:11.260530Z",
     "shell.execute_reply": "2023-05-28T21:22:11.259406Z"
    },
    "papermill": {
     "duration": 0.20835,
     "end_time": "2023-05-28T21:22:11.262939",
     "exception": false,
     "start_time": "2023-05-28T21:22:11.054589",
     "status": "completed"
    },
    "tags": []
   },
   "outputs": [
    {
     "data": {
      "image/png": "[encoded data removed]",
      "text/plain": [
       "<Figure size 640x480 with 1 Axes>"
      ]
     },
     "metadata": {},
     "output_type": "display_data"
    }
   ],
   "source": [
    "top5_team = df['Team'].value_counts()[:5]\n",
    "sns.barplot(x=top5_team.index, y=top5_team.values)\n",
    "plt.title('Top 5 Teams')\n",
    "plt.xlabel('Teams')\n",
    "plt.ylabel('# of Swimmers')\n",
    "plt.grid(alpha=0.5)\n",
    "plt.show()"
   ]
  },
  {
   "cell_type": "markdown",
   "id": "b11dd5b3",
   "metadata": {
    "papermill": {
     "duration": 0.006258,
     "end_time": "2023-05-28T21:22:11.275614",
     "exception": false,
     "start_time": "2023-05-28T21:22:11.269356",
     "status": "completed"
    },
    "tags": []
   },
   "source": [
    "**According to the results, with the more than 800 athletes, the USA team is the team that sent the most athletes to swim in the Olympics.**"
   ]
  },
  {
   "cell_type": "code",
   "execution_count": 8,
   "id": "b518e528",
   "metadata": {
    "execution": {
     "iopub.execute_input": "2023-05-28T21:22:11.290046Z",
     "iopub.status.busy": "2023-05-28T21:22:11.288683Z",
     "iopub.status.idle": "2023-05-28T21:22:11.298694Z",
     "shell.execute_reply": "2023-05-28T21:22:11.297588Z"
    },
    "papermill": {
     "duration": 0.019562,
     "end_time": "2023-05-28T21:22:11.300977",
     "exception": false,
     "start_time": "2023-05-28T21:22:11.281415",
     "status": "completed"
    },
    "tags": []
   },
   "outputs": [
    {
     "data": {
      "text/plain": [
       "4    2582\n",
       "3     566\n",
       "2     548\n",
       "1     534\n",
       "0     101\n",
       "5      28\n",
       "Name: Rank, dtype: int64"
      ]
     },
     "execution_count": 8,
     "metadata": {},
     "output_type": "execute_result"
    }
   ],
   "source": [
    "new_df = df.copy()\n",
    "new_df['Rank'].value_counts()"
   ]
  },
  {
   "cell_type": "code",
   "execution_count": 9,
   "id": "d4c06cf2",
   "metadata": {
    "execution": {
     "iopub.execute_input": "2023-05-28T21:22:11.315836Z",
     "iopub.status.busy": "2023-05-28T21:22:11.314681Z",
     "iopub.status.idle": "2023-05-28T21:22:11.328752Z",
     "shell.execute_reply": "2023-05-28T21:22:11.327695Z"
    },
    "papermill": {
     "duration": 0.023571,
     "end_time": "2023-05-28T21:22:11.330754",
     "exception": false,
     "start_time": "2023-05-28T21:22:11.307183",
     "status": "completed"
    },
    "tags": []
   },
   "outputs": [
    {
     "data": {
      "text/plain": [
       "No Medal    2582\n",
       "Bronze       566\n",
       "Silver       548\n",
       "Gold         534\n",
       "DNF          101\n",
       "No Data       28\n",
       "Name: Rank, dtype: int64"
      ]
     },
     "execution_count": 9,
     "metadata": {},
     "output_type": "execute_result"
    }
   ],
   "source": [
    "result = ['DNF', 'Gold', 'Silver', 'Bronze', 'No Medal', 'No Data']\n",
    "for i in range(0,6):\n",
    "    new_df['Rank'].replace(i, result[i], inplace=True)\n",
    "new_df['Rank'].value_counts()"
   ]
  },
  {
   "cell_type": "code",
   "execution_count": 10,
   "id": "f1bb60d7",
   "metadata": {
    "execution": {
     "iopub.execute_input": "2023-05-28T21:22:11.346457Z",
     "iopub.status.busy": "2023-05-28T21:22:11.345316Z",
     "iopub.status.idle": "2023-05-28T21:22:11.375604Z",
     "shell.execute_reply": "2023-05-28T21:22:11.373667Z"
    },
    "papermill": {
     "duration": 0.040957,
     "end_time": "2023-05-28T21:22:11.378055",
     "exception": false,
     "start_time": "2023-05-28T21:22:11.337098",
     "status": "completed"
    },
    "tags": []
   },
   "outputs": [
    {
     "data": {
      "text/html": [
       "<div>\n",
       "<style scoped>\n",
       "    .dataframe tbody tr th:only-of-type {\n",
       "        vertical-align: middle;\n",
       "    }\n",
       "\n",
       "    .dataframe tbody tr th {\n",
       "        vertical-align: top;\n",
       "    }\n",
       "\n",
       "    .dataframe thead th {\n",
       "        text-align: right;\n",
       "    }\n",
       "</style>\n",
       "<table border=\"1\" class=\"dataframe\">\n",
       "  <thead>\n",
       "    <tr style=\"text-align: right;\">\n",
       "      <th></th>\n",
       "      <th>Location</th>\n",
       "      <th>Year</th>\n",
       "      <th>Distance (in meters)</th>\n",
       "      <th>Stroke</th>\n",
       "      <th>Relay?</th>\n",
       "      <th>Gender</th>\n",
       "      <th>Team</th>\n",
       "      <th>Athlete</th>\n",
       "      <th>Results</th>\n",
       "      <th>Rank_Bronze</th>\n",
       "      <th>Rank_DNF</th>\n",
       "      <th>Rank_Gold</th>\n",
       "      <th>Rank_No Data</th>\n",
       "      <th>Rank_No Medal</th>\n",
       "      <th>Rank_Silver</th>\n",
       "    </tr>\n",
       "  </thead>\n",
       "  <tbody>\n",
       "    <tr>\n",
       "      <th>0</th>\n",
       "      <td>Tokyo</td>\n",
       "      <td>2020</td>\n",
       "      <td>100m</td>\n",
       "      <td>Backstroke</td>\n",
       "      <td>0</td>\n",
       "      <td>Men</td>\n",
       "      <td>ROC</td>\n",
       "      <td>Evgeny Rylov</td>\n",
       "      <td>51.98</td>\n",
       "      <td>0</td>\n",
       "      <td>0</td>\n",
       "      <td>1</td>\n",
       "      <td>0</td>\n",
       "      <td>0</td>\n",
       "      <td>0</td>\n",
       "    </tr>\n",
       "    <tr>\n",
       "      <th>1</th>\n",
       "      <td>Tokyo</td>\n",
       "      <td>2020</td>\n",
       "      <td>100m</td>\n",
       "      <td>Backstroke</td>\n",
       "      <td>0</td>\n",
       "      <td>Men</td>\n",
       "      <td>ROC</td>\n",
       "      <td>Kliment Kolesnikov</td>\n",
       "      <td>52</td>\n",
       "      <td>0</td>\n",
       "      <td>0</td>\n",
       "      <td>0</td>\n",
       "      <td>0</td>\n",
       "      <td>0</td>\n",
       "      <td>1</td>\n",
       "    </tr>\n",
       "    <tr>\n",
       "      <th>2</th>\n",
       "      <td>Tokyo</td>\n",
       "      <td>2020</td>\n",
       "      <td>100m</td>\n",
       "      <td>Backstroke</td>\n",
       "      <td>0</td>\n",
       "      <td>Men</td>\n",
       "      <td>USA</td>\n",
       "      <td>Ryan Murphy</td>\n",
       "      <td>52.19</td>\n",
       "      <td>1</td>\n",
       "      <td>0</td>\n",
       "      <td>0</td>\n",
       "      <td>0</td>\n",
       "      <td>0</td>\n",
       "      <td>0</td>\n",
       "    </tr>\n",
       "  </tbody>\n",
       "</table>\n",
       "</div>"
      ],
      "text/plain": [
       "  Location  Year Distance (in meters)      Stroke  Relay? Gender Team  \\\n",
       "0    Tokyo  2020                 100m  Backstroke       0    Men  ROC   \n",
       "1    Tokyo  2020                 100m  Backstroke       0    Men  ROC   \n",
       "2    Tokyo  2020                 100m  Backstroke       0    Men  USA   \n",
       "\n",
       "              Athlete Results  Rank_Bronze  Rank_DNF  Rank_Gold  Rank_No Data  \\\n",
       "0        Evgeny Rylov   51.98            0         0          1             0   \n",
       "1  Kliment Kolesnikov      52            0         0          0             0   \n",
       "2         Ryan Murphy   52.19            1         0          0             0   \n",
       "\n",
       "   Rank_No Medal  Rank_Silver  \n",
       "0              0            0  \n",
       "1              0            1  \n",
       "2              0            0  "
      ]
     },
     "execution_count": 10,
     "metadata": {},
     "output_type": "execute_result"
    }
   ],
   "source": [
    "new_df = pd.get_dummies(new_df, columns=['Rank'])\n",
    "new_df.head(3)"
   ]
  },
  {
   "cell_type": "code",
   "execution_count": 11,
   "id": "8d20ad26",
   "metadata": {
    "execution": {
     "iopub.execute_input": "2023-05-28T21:22:11.394195Z",
     "iopub.status.busy": "2023-05-28T21:22:11.392727Z",
     "iopub.status.idle": "2023-05-28T21:22:11.419396Z",
     "shell.execute_reply": "2023-05-28T21:22:11.417954Z"
    },
    "papermill": {
     "duration": 0.037538,
     "end_time": "2023-05-28T21:22:11.422285",
     "exception": false,
     "start_time": "2023-05-28T21:22:11.384747",
     "status": "completed"
    },
    "tags": []
   },
   "outputs": [
    {
     "data": {
      "text/html": [
       "<div>\n",
       "<style scoped>\n",
       "    .dataframe tbody tr th:only-of-type {\n",
       "        vertical-align: middle;\n",
       "    }\n",
       "\n",
       "    .dataframe tbody tr th {\n",
       "        vertical-align: top;\n",
       "    }\n",
       "\n",
       "    .dataframe thead th {\n",
       "        text-align: right;\n",
       "    }\n",
       "</style>\n",
       "<table border=\"1\" class=\"dataframe\">\n",
       "  <thead>\n",
       "    <tr style=\"text-align: right;\">\n",
       "      <th></th>\n",
       "      <th>Team</th>\n",
       "      <th>Rank_Gold</th>\n",
       "      <th>Rank_Silver</th>\n",
       "      <th>Rank_Bronze</th>\n",
       "    </tr>\n",
       "  </thead>\n",
       "  <tbody>\n",
       "    <tr>\n",
       "      <th>81</th>\n",
       "      <td>USA</td>\n",
       "      <td>240</td>\n",
       "      <td>171</td>\n",
       "      <td>138</td>\n",
       "    </tr>\n",
       "    <tr>\n",
       "      <th>3</th>\n",
       "      <td>AUS</td>\n",
       "      <td>61</td>\n",
       "      <td>67</td>\n",
       "      <td>70</td>\n",
       "    </tr>\n",
       "    <tr>\n",
       "      <th>30</th>\n",
       "      <td>GDR</td>\n",
       "      <td>30</td>\n",
       "      <td>24</td>\n",
       "      <td>21</td>\n",
       "    </tr>\n",
       "    <tr>\n",
       "      <th>35</th>\n",
       "      <td>HUN</td>\n",
       "      <td>25</td>\n",
       "      <td>19</td>\n",
       "      <td>19</td>\n",
       "    </tr>\n",
       "    <tr>\n",
       "      <th>43</th>\n",
       "      <td>JPN</td>\n",
       "      <td>24</td>\n",
       "      <td>29</td>\n",
       "      <td>31</td>\n",
       "    </tr>\n",
       "    <tr>\n",
       "      <th>51</th>\n",
       "      <td>NED</td>\n",
       "      <td>17</td>\n",
       "      <td>15</td>\n",
       "      <td>16</td>\n",
       "    </tr>\n",
       "    <tr>\n",
       "      <th>15</th>\n",
       "      <td>CHN</td>\n",
       "      <td>14</td>\n",
       "      <td>19</td>\n",
       "      <td>12</td>\n",
       "    </tr>\n",
       "    <tr>\n",
       "      <th>31</th>\n",
       "      <td>GER</td>\n",
       "      <td>13</td>\n",
       "      <td>30</td>\n",
       "      <td>40</td>\n",
       "    </tr>\n",
       "    <tr>\n",
       "      <th>79</th>\n",
       "      <td>URS</td>\n",
       "      <td>11</td>\n",
       "      <td>16</td>\n",
       "      <td>19</td>\n",
       "    </tr>\n",
       "    <tr>\n",
       "      <th>29</th>\n",
       "      <td>GBR</td>\n",
       "      <td>10</td>\n",
       "      <td>27</td>\n",
       "      <td>30</td>\n",
       "    </tr>\n",
       "  </tbody>\n",
       "</table>\n",
       "</div>"
      ],
      "text/plain": [
       "   Team  Rank_Gold  Rank_Silver  Rank_Bronze\n",
       "81  USA        240          171          138\n",
       "3   AUS         61           67           70\n",
       "30  GDR         30           24           21\n",
       "35  HUN         25           19           19\n",
       "43  JPN         24           29           31\n",
       "51  NED         17           15           16\n",
       "15  CHN         14           19           12\n",
       "31  GER         13           30           40\n",
       "79  URS         11           16           19\n",
       "29  GBR         10           27           30"
      ]
     },
     "execution_count": 11,
     "metadata": {},
     "output_type": "execute_result"
    }
   ],
   "source": [
    "new_df[[\"Team\", \"Rank_Gold\", \"Rank_Silver\", \"Rank_Bronze\"]].groupby([\"Team\"], as_index=False).sum().sort_values(by=\"Rank_Gold\", ascending=False)[:10]"
   ]
  },
  {
   "cell_type": "markdown",
   "id": "32e6d9eb",
   "metadata": {
    "papermill": {
     "duration": 0.006103,
     "end_time": "2023-05-28T21:22:11.435602",
     "exception": false,
     "start_time": "2023-05-28T21:22:11.429499",
     "status": "completed"
    },
    "tags": []
   },
   "source": [
    "**When the medals received are analyzed and ranked according to the number of gold medals won, it is seen that the 5 most successful teams are USA, AUS, GDR, HUN and JPN, respectively.**"
   ]
  },
  {
   "cell_type": "code",
   "execution_count": 12,
   "id": "67774c1b",
   "metadata": {
    "execution": {
     "iopub.execute_input": "2023-05-28T21:22:11.450403Z",
     "iopub.status.busy": "2023-05-28T21:22:11.449938Z",
     "iopub.status.idle": "2023-05-28T21:22:11.469474Z",
     "shell.execute_reply": "2023-05-28T21:22:11.468545Z"
    },
    "papermill": {
     "duration": 0.030278,
     "end_time": "2023-05-28T21:22:11.472211",
     "exception": false,
     "start_time": "2023-05-28T21:22:11.441933",
     "status": "completed"
    },
    "tags": []
   },
   "outputs": [
    {
     "data": {
      "text/html": [
       "<div>\n",
       "<style scoped>\n",
       "    .dataframe tbody tr th:only-of-type {\n",
       "        vertical-align: middle;\n",
       "    }\n",
       "\n",
       "    .dataframe tbody tr th {\n",
       "        vertical-align: top;\n",
       "    }\n",
       "\n",
       "    .dataframe thead th {\n",
       "        text-align: right;\n",
       "    }\n",
       "</style>\n",
       "<table border=\"1\" class=\"dataframe\">\n",
       "  <thead>\n",
       "    <tr style=\"text-align: right;\">\n",
       "      <th></th>\n",
       "      <th>Gender</th>\n",
       "      <th>Rank_Gold</th>\n",
       "      <th>Rank_Silver</th>\n",
       "      <th>Rank_Bronze</th>\n",
       "    </tr>\n",
       "  </thead>\n",
       "  <tbody>\n",
       "    <tr>\n",
       "      <th>0</th>\n",
       "      <td>Men</td>\n",
       "      <td>278</td>\n",
       "      <td>290</td>\n",
       "      <td>291</td>\n",
       "    </tr>\n",
       "    <tr>\n",
       "      <th>1</th>\n",
       "      <td>Women</td>\n",
       "      <td>256</td>\n",
       "      <td>258</td>\n",
       "      <td>275</td>\n",
       "    </tr>\n",
       "  </tbody>\n",
       "</table>\n",
       "</div>"
      ],
      "text/plain": [
       "  Gender  Rank_Gold  Rank_Silver  Rank_Bronze\n",
       "0    Men        278          290          291\n",
       "1  Women        256          258          275"
      ]
     },
     "execution_count": 12,
     "metadata": {},
     "output_type": "execute_result"
    }
   ],
   "source": [
    "new_df[[\"Gender\", \"Rank_Gold\", \"Rank_Silver\", \"Rank_Bronze\"]].groupby([\"Gender\"], as_index=False).sum().sort_values(by=\"Rank_Gold\", ascending=False)"
   ]
  },
  {
   "cell_type": "code",
   "execution_count": null,
   "id": "80dc773f",
   "metadata": {
    "papermill": {
     "duration": 0.006479,
     "end_time": "2023-05-28T21:22:11.486033",
     "exception": false,
     "start_time": "2023-05-28T21:22:11.479554",
     "status": "completed"
    },
    "tags": []
   },
   "outputs": [],
   "source": []
  }
 ],
 "metadata": {
  "kernelspec": {
   "display_name": "Python 3",
   "language": "python",
   "name": "python3"
  },
  "language_info": {
   "codemirror_mode": {
    "name": "ipython",
    "version": 3
   },
   "file_extension": ".py",
   "mimetype": "text/x-python",
   "name": "python",
   "nbconvert_exporter": "python",
   "pygments_lexer": "ipython3",
   "version": "3.10.10"
  },
  "papermill": {
   "default_parameters": {},
   "duration": 14.501524,
   "end_time": "2023-05-28T21:22:12.619835",
   "environment_variables": {},
   "exception": null,
   "input_path": "__notebook__.ipynb",
   "output_path": "__notebook__.ipynb",
   "parameters": {},
   "start_time": "2023-05-28T21:21:58.118311",
   "version": "2.4.0"
  }
 },
 "nbformat": 4,
 "nbformat_minor": 5
}
